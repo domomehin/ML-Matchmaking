{
  "nbformat": 4,
  "nbformat_minor": 2,
  "metadata": {
    "colab": {
      "name": "modeling.ipynb",
      "provenance": [],
      "collapsed_sections": []
    },
    "kernelspec": {
      "name": "python3",
      "display_name": "Python 3.9.7 64-bit ('ml_hw3': conda)"
    },
    "language_info": {
      "name": "python",
      "version": "3.9.7",
      "mimetype": "text/x-python",
      "codemirror_mode": {
        "name": "ipython",
        "version": 3
      },
      "pygments_lexer": "ipython3",
      "nbconvert_exporter": "python",
      "file_extension": ".py"
    },
    "widgets": {
      "application/vnd.jupyter.widget-state+json": {
        "0e91a90a66e14f8183719478d2419c84": {
          "model_module": "@jupyter-widgets/controls",
          "model_name": "HBoxModel",
          "model_module_version": "1.5.0",
          "state": {
            "_dom_classes": [],
            "_model_module": "@jupyter-widgets/controls",
            "_model_module_version": "1.5.0",
            "_model_name": "HBoxModel",
            "_view_count": null,
            "_view_module": "@jupyter-widgets/controls",
            "_view_module_version": "1.5.0",
            "_view_name": "HBoxView",
            "box_style": "",
            "children": [
              "IPY_MODEL_d5a98655c58f4c25ad0b049429a93ed0",
              "IPY_MODEL_84fb8406d7d94e9da73b0dd67db2fb4c",
              "IPY_MODEL_961b660de4154c959b62f28b0d756119"
            ],
            "layout": "IPY_MODEL_d3e504396e3f4f168df30c3c53f81547"
          }
        },
        "d5a98655c58f4c25ad0b049429a93ed0": {
          "model_module": "@jupyter-widgets/controls",
          "model_name": "HTMLModel",
          "model_module_version": "1.5.0",
          "state": {
            "_dom_classes": [],
            "_model_module": "@jupyter-widgets/controls",
            "_model_module_version": "1.5.0",
            "_model_name": "HTMLModel",
            "_view_count": null,
            "_view_module": "@jupyter-widgets/controls",
            "_view_module_version": "1.5.0",
            "_view_name": "HTMLView",
            "description": "",
            "description_tooltip": null,
            "layout": "IPY_MODEL_96f7ffd473e5453784bac4ad1cb11f01",
            "placeholder": "​",
            "style": "IPY_MODEL_39eb89972f4f475fb7e3fce2a85eea6b",
            "value": "  0%"
          }
        },
        "84fb8406d7d94e9da73b0dd67db2fb4c": {
          "model_module": "@jupyter-widgets/controls",
          "model_name": "FloatProgressModel",
          "model_module_version": "1.5.0",
          "state": {
            "_dom_classes": [],
            "_model_module": "@jupyter-widgets/controls",
            "_model_module_version": "1.5.0",
            "_model_name": "FloatProgressModel",
            "_view_count": null,
            "_view_module": "@jupyter-widgets/controls",
            "_view_module_version": "1.5.0",
            "_view_name": "ProgressView",
            "bar_style": "",
            "description": "",
            "description_tooltip": null,
            "layout": "IPY_MODEL_3a3a42f59dd34665bf6e4e55945e9a9a",
            "max": 9,
            "min": 0,
            "orientation": "horizontal",
            "style": "IPY_MODEL_f0a872c2848e4976bc57ef187d468e82",
            "value": 0
          }
        },
        "961b660de4154c959b62f28b0d756119": {
          "model_module": "@jupyter-widgets/controls",
          "model_name": "HTMLModel",
          "model_module_version": "1.5.0",
          "state": {
            "_dom_classes": [],
            "_model_module": "@jupyter-widgets/controls",
            "_model_module_version": "1.5.0",
            "_model_name": "HTMLModel",
            "_view_count": null,
            "_view_module": "@jupyter-widgets/controls",
            "_view_module_version": "1.5.0",
            "_view_name": "HTMLView",
            "description": "",
            "description_tooltip": null,
            "layout": "IPY_MODEL_adbd24b113f049d491c63afa5f1504c9",
            "placeholder": "​",
            "style": "IPY_MODEL_dd3423b69d594bb6a6cfe6a071e757b2",
            "value": " 0/9 [00:00&lt;?, ?it/s]"
          }
        },
        "d3e504396e3f4f168df30c3c53f81547": {
          "model_module": "@jupyter-widgets/base",
          "model_name": "LayoutModel",
          "model_module_version": "1.2.0",
          "state": {
            "_model_module": "@jupyter-widgets/base",
            "_model_module_version": "1.2.0",
            "_model_name": "LayoutModel",
            "_view_count": null,
            "_view_module": "@jupyter-widgets/base",
            "_view_module_version": "1.2.0",
            "_view_name": "LayoutView",
            "align_content": null,
            "align_items": null,
            "align_self": null,
            "border": null,
            "bottom": null,
            "display": null,
            "flex": null,
            "flex_flow": null,
            "grid_area": null,
            "grid_auto_columns": null,
            "grid_auto_flow": null,
            "grid_auto_rows": null,
            "grid_column": null,
            "grid_gap": null,
            "grid_row": null,
            "grid_template_areas": null,
            "grid_template_columns": null,
            "grid_template_rows": null,
            "height": null,
            "justify_content": null,
            "justify_items": null,
            "left": null,
            "margin": null,
            "max_height": null,
            "max_width": null,
            "min_height": null,
            "min_width": null,
            "object_fit": null,
            "object_position": null,
            "order": null,
            "overflow": null,
            "overflow_x": null,
            "overflow_y": null,
            "padding": null,
            "right": null,
            "top": null,
            "visibility": null,
            "width": null
          }
        },
        "96f7ffd473e5453784bac4ad1cb11f01": {
          "model_module": "@jupyter-widgets/base",
          "model_name": "LayoutModel",
          "model_module_version": "1.2.0",
          "state": {
            "_model_module": "@jupyter-widgets/base",
            "_model_module_version": "1.2.0",
            "_model_name": "LayoutModel",
            "_view_count": null,
            "_view_module": "@jupyter-widgets/base",
            "_view_module_version": "1.2.0",
            "_view_name": "LayoutView",
            "align_content": null,
            "align_items": null,
            "align_self": null,
            "border": null,
            "bottom": null,
            "display": null,
            "flex": null,
            "flex_flow": null,
            "grid_area": null,
            "grid_auto_columns": null,
            "grid_auto_flow": null,
            "grid_auto_rows": null,
            "grid_column": null,
            "grid_gap": null,
            "grid_row": null,
            "grid_template_areas": null,
            "grid_template_columns": null,
            "grid_template_rows": null,
            "height": null,
            "justify_content": null,
            "justify_items": null,
            "left": null,
            "margin": null,
            "max_height": null,
            "max_width": null,
            "min_height": null,
            "min_width": null,
            "object_fit": null,
            "object_position": null,
            "order": null,
            "overflow": null,
            "overflow_x": null,
            "overflow_y": null,
            "padding": null,
            "right": null,
            "top": null,
            "visibility": null,
            "width": null
          }
        },
        "39eb89972f4f475fb7e3fce2a85eea6b": {
          "model_module": "@jupyter-widgets/controls",
          "model_name": "DescriptionStyleModel",
          "model_module_version": "1.5.0",
          "state": {
            "_model_module": "@jupyter-widgets/controls",
            "_model_module_version": "1.5.0",
            "_model_name": "DescriptionStyleModel",
            "_view_count": null,
            "_view_module": "@jupyter-widgets/base",
            "_view_module_version": "1.2.0",
            "_view_name": "StyleView",
            "description_width": ""
          }
        },
        "3a3a42f59dd34665bf6e4e55945e9a9a": {
          "model_module": "@jupyter-widgets/base",
          "model_name": "LayoutModel",
          "model_module_version": "1.2.0",
          "state": {
            "_model_module": "@jupyter-widgets/base",
            "_model_module_version": "1.2.0",
            "_model_name": "LayoutModel",
            "_view_count": null,
            "_view_module": "@jupyter-widgets/base",
            "_view_module_version": "1.2.0",
            "_view_name": "LayoutView",
            "align_content": null,
            "align_items": null,
            "align_self": null,
            "border": null,
            "bottom": null,
            "display": null,
            "flex": null,
            "flex_flow": null,
            "grid_area": null,
            "grid_auto_columns": null,
            "grid_auto_flow": null,
            "grid_auto_rows": null,
            "grid_column": null,
            "grid_gap": null,
            "grid_row": null,
            "grid_template_areas": null,
            "grid_template_columns": null,
            "grid_template_rows": null,
            "height": null,
            "justify_content": null,
            "justify_items": null,
            "left": null,
            "margin": null,
            "max_height": null,
            "max_width": null,
            "min_height": null,
            "min_width": null,
            "object_fit": null,
            "object_position": null,
            "order": null,
            "overflow": null,
            "overflow_x": null,
            "overflow_y": null,
            "padding": null,
            "right": null,
            "top": null,
            "visibility": null,
            "width": null
          }
        },
        "f0a872c2848e4976bc57ef187d468e82": {
          "model_module": "@jupyter-widgets/controls",
          "model_name": "ProgressStyleModel",
          "model_module_version": "1.5.0",
          "state": {
            "_model_module": "@jupyter-widgets/controls",
            "_model_module_version": "1.5.0",
            "_model_name": "ProgressStyleModel",
            "_view_count": null,
            "_view_module": "@jupyter-widgets/base",
            "_view_module_version": "1.2.0",
            "_view_name": "StyleView",
            "bar_color": null,
            "description_width": ""
          }
        },
        "adbd24b113f049d491c63afa5f1504c9": {
          "model_module": "@jupyter-widgets/base",
          "model_name": "LayoutModel",
          "model_module_version": "1.2.0",
          "state": {
            "_model_module": "@jupyter-widgets/base",
            "_model_module_version": "1.2.0",
            "_model_name": "LayoutModel",
            "_view_count": null,
            "_view_module": "@jupyter-widgets/base",
            "_view_module_version": "1.2.0",
            "_view_name": "LayoutView",
            "align_content": null,
            "align_items": null,
            "align_self": null,
            "border": null,
            "bottom": null,
            "display": null,
            "flex": null,
            "flex_flow": null,
            "grid_area": null,
            "grid_auto_columns": null,
            "grid_auto_flow": null,
            "grid_auto_rows": null,
            "grid_column": null,
            "grid_gap": null,
            "grid_row": null,
            "grid_template_areas": null,
            "grid_template_columns": null,
            "grid_template_rows": null,
            "height": null,
            "justify_content": null,
            "justify_items": null,
            "left": null,
            "margin": null,
            "max_height": null,
            "max_width": null,
            "min_height": null,
            "min_width": null,
            "object_fit": null,
            "object_position": null,
            "order": null,
            "overflow": null,
            "overflow_x": null,
            "overflow_y": null,
            "padding": null,
            "right": null,
            "top": null,
            "visibility": null,
            "width": null
          }
        },
        "dd3423b69d594bb6a6cfe6a071e757b2": {
          "model_module": "@jupyter-widgets/controls",
          "model_name": "DescriptionStyleModel",
          "model_module_version": "1.5.0",
          "state": {
            "_model_module": "@jupyter-widgets/controls",
            "_model_module_version": "1.5.0",
            "_model_name": "DescriptionStyleModel",
            "_view_count": null,
            "_view_module": "@jupyter-widgets/base",
            "_view_module_version": "1.2.0",
            "_view_name": "StyleView",
            "description_width": ""
          }
        }
      }
    },
    "interpreter": {
      "hash": "7de861537be3108068307621bdf7246ed24dd703ae2a4dd1901e70fd392aaf9a"
    }
  },
  "cells": [
    {
      "cell_type": "code",
      "execution_count": 1,
      "source": [
        "import pandas as pd\n",
        "pd.set_option('display.max_colwidth', 500)\n",
        "import numpy as np\n",
        "import matplotlib.pyplot as plt\n",
        "import seaborn as sns\n",
        "import _pickle as pickle\n",
        "from sklearn.feature_extraction.text import CountVectorizer\n",
        "from sklearn.cluster import AgglomerativeClustering, KMeans\n",
        "from sklearn.metrics import calinski_harabasz_score, silhouette_score, davies_bouldin_score\n",
        "from sklearn.preprocessing import MinMaxScaler\n",
        "from sklearn.model_selection import train_test_split\n",
        "from sklearn.metrics import classification_report\n",
        "from tqdm.notebook import tqdm\n",
        "import os"
      ],
      "outputs": [],
      "metadata": {
        "id": "7zUa7YmrLfeN"
      }
    },
    {
      "cell_type": "code",
      "execution_count": 2,
      "source": [
        "path = os.getcwd() + \"/Pickles/refined_profiles.pkl\"\n",
        "print(path)\n",
        "with open(path,'rb') as fp:\n",
        "    df = pickle.load(fp)\n",
        "\n",
        "# Viewing the DF    \n",
        "df"
      ],
      "outputs": [
        {
          "output_type": "stream",
          "name": "stdout",
          "text": [
            "/Users/dianaomomehin/Desktop/ML-Matchmaking/Pickles/refined_profiles.pkl\n"
          ]
        },
        {
          "output_type": "execute_result",
          "data": {
            "text/html": [
              "<div>\n",
              "<style scoped>\n",
              "    .dataframe tbody tr th:only-of-type {\n",
              "        vertical-align: middle;\n",
              "    }\n",
              "\n",
              "    .dataframe tbody tr th {\n",
              "        vertical-align: top;\n",
              "    }\n",
              "\n",
              "    .dataframe thead th {\n",
              "        text-align: right;\n",
              "    }\n",
              "</style>\n",
              "<table border=\"1\" class=\"dataframe\">\n",
              "  <thead>\n",
              "    <tr style=\"text-align: right;\">\n",
              "      <th></th>\n",
              "      <th>Profiles</th>\n",
              "      <th>Style</th>\n",
              "      <th>Age</th>\n",
              "      <th>Rate</th>\n",
              "    </tr>\n",
              "  </thead>\n",
              "  <tbody>\n",
              "    <tr>\n",
              "      <th>0</th>\n",
              "      <td>Masculine, Casual, Preppy, Glam</td>\n",
              "      <td>[Dramatic, Editorial, Edgy, Masculine]</td>\n",
              "      <td>27</td>\n",
              "      <td>30</td>\n",
              "    </tr>\n",
              "    <tr>\n",
              "      <th>1</th>\n",
              "      <td>Masculine, Glam, Vintage, Preppy</td>\n",
              "      <td>[Minimalist, Romantic, Androgynous]</td>\n",
              "      <td>27</td>\n",
              "      <td>82</td>\n",
              "    </tr>\n",
              "    <tr>\n",
              "      <th>2</th>\n",
              "      <td>Sexy, Feminine, Edgy, Editorial</td>\n",
              "      <td>[Classic, Elegant, Editorial]</td>\n",
              "      <td>25</td>\n",
              "      <td>27</td>\n",
              "    </tr>\n",
              "    <tr>\n",
              "      <th>3</th>\n",
              "      <td>Classic, Editorial, Androgynous, Feminine</td>\n",
              "      <td>[Classic, Romantic, Editorial, Vintage]</td>\n",
              "      <td>24</td>\n",
              "      <td>73</td>\n",
              "    </tr>\n",
              "    <tr>\n",
              "      <th>4</th>\n",
              "      <td>Maximalist, Androgynous, Elegant, Masculine</td>\n",
              "      <td>[Glam, Classic, Androgynous]</td>\n",
              "      <td>21</td>\n",
              "      <td>47</td>\n",
              "    </tr>\n",
              "    <tr>\n",
              "      <th>...</th>\n",
              "      <td>...</td>\n",
              "      <td>...</td>\n",
              "      <td>...</td>\n",
              "      <td>...</td>\n",
              "    </tr>\n",
              "    <tr>\n",
              "      <th>73438</th>\n",
              "      <td>Maximalist, Minimalist, Classic, Feminine</td>\n",
              "      <td>[Classic, Edgy, Androgynous]</td>\n",
              "      <td>38</td>\n",
              "      <td>91</td>\n",
              "    </tr>\n",
              "    <tr>\n",
              "      <th>73439</th>\n",
              "      <td>Glam, Androgynous, Maximalist, Editorial</td>\n",
              "      <td>[Vintage, Editorial, Feminine]</td>\n",
              "      <td>24</td>\n",
              "      <td>54</td>\n",
              "    </tr>\n",
              "    <tr>\n",
              "      <th>73440</th>\n",
              "      <td>Feminine, Classic</td>\n",
              "      <td>Feminine Classic</td>\n",
              "      <td>0</td>\n",
              "      <td>25</td>\n",
              "    </tr>\n",
              "    <tr>\n",
              "      <th>73441</th>\n",
              "      <td>funky, mature, nice</td>\n",
              "      <td>funky mature nice</td>\n",
              "      <td>24</td>\n",
              "      <td>25</td>\n",
              "    </tr>\n",
              "    <tr>\n",
              "      <th>73442</th>\n",
              "      <td>less than 18, $25 - $49, Casual/Everyday, nice</td>\n",
              "      <td>less than 18 $25 - $49 Casual/Everyday nice</td>\n",
              "      <td>24</td>\n",
              "      <td>12</td>\n",
              "    </tr>\n",
              "  </tbody>\n",
              "</table>\n",
              "<p>73443 rows × 4 columns</p>\n",
              "</div>"
            ],
            "text/plain": [
              "                                             Profiles  \\\n",
              "0                     Masculine, Casual, Preppy, Glam   \n",
              "1                    Masculine, Glam, Vintage, Preppy   \n",
              "2                     Sexy, Feminine, Edgy, Editorial   \n",
              "3           Classic, Editorial, Androgynous, Feminine   \n",
              "4         Maximalist, Androgynous, Elegant, Masculine   \n",
              "...                                               ...   \n",
              "73438       Maximalist, Minimalist, Classic, Feminine   \n",
              "73439        Glam, Androgynous, Maximalist, Editorial   \n",
              "73440                               Feminine, Classic   \n",
              "73441                             funky, mature, nice   \n",
              "73442  less than 18, $25 - $49, Casual/Everyday, nice   \n",
              "\n",
              "                                             Style  Age Rate  \n",
              "0           [Dramatic, Editorial, Edgy, Masculine]   27   30  \n",
              "1              [Minimalist, Romantic, Androgynous]   27   82  \n",
              "2                    [Classic, Elegant, Editorial]   25   27  \n",
              "3          [Classic, Romantic, Editorial, Vintage]   24   73  \n",
              "4                     [Glam, Classic, Androgynous]   21   47  \n",
              "...                                            ...  ...  ...  \n",
              "73438                 [Classic, Edgy, Androgynous]   38   91  \n",
              "73439               [Vintage, Editorial, Feminine]   24   54  \n",
              "73440                             Feminine Classic    0   25  \n",
              "73441                            funky mature nice   24   25  \n",
              "73442  less than 18 $25 - $49 Casual/Everyday nice   24   12  \n",
              "\n",
              "[73443 rows x 4 columns]"
            ]
          },
          "metadata": {},
          "execution_count": 2
        }
      ],
      "metadata": {
        "id": "Td9Xgg2yLr1x",
        "colab": {
          "base_uri": "https://localhost:8080/",
          "height": 423
        },
        "outputId": "c6e3d6ee-00ec-40f3-847e-cf0bc2f356e8"
      }
    },
    {
      "cell_type": "markdown",
      "source": [
        "## Clustering the Data"
      ],
      "metadata": {
        "id": "a8BFeS1hZUu1"
      }
    },
    {
      "cell_type": "code",
      "execution_count": 3,
      "source": [
        "def string_convert(x):\n",
        "    \"\"\"\n",
        "    First converts the lists in the DF into strings\n",
        "    \"\"\"\n",
        "    if isinstance(x, list):\n",
        "        return ' '.join(x)\n",
        "    else:\n",
        "        return x\n",
        "    \n",
        "# Looping through the columns and applying the function\n",
        "for col in df.columns:\n",
        "    df[col] = df[col].apply(string_convert)"
      ],
      "outputs": [],
      "metadata": {
        "id": "Kxs6TVdzZY1A"
      }
    },
    {
      "cell_type": "code",
      "execution_count": 4,
      "source": [
        "df = df[['Profiles', 'Style','Age', 'Rate']]\n",
        "df"
      ],
      "outputs": [
        {
          "output_type": "execute_result",
          "data": {
            "text/html": [
              "<div>\n",
              "<style scoped>\n",
              "    .dataframe tbody tr th:only-of-type {\n",
              "        vertical-align: middle;\n",
              "    }\n",
              "\n",
              "    .dataframe tbody tr th {\n",
              "        vertical-align: top;\n",
              "    }\n",
              "\n",
              "    .dataframe thead th {\n",
              "        text-align: right;\n",
              "    }\n",
              "</style>\n",
              "<table border=\"1\" class=\"dataframe\">\n",
              "  <thead>\n",
              "    <tr style=\"text-align: right;\">\n",
              "      <th></th>\n",
              "      <th>Profiles</th>\n",
              "      <th>Style</th>\n",
              "      <th>Age</th>\n",
              "      <th>Rate</th>\n",
              "    </tr>\n",
              "  </thead>\n",
              "  <tbody>\n",
              "    <tr>\n",
              "      <th>0</th>\n",
              "      <td>Masculine, Casual, Preppy, Glam</td>\n",
              "      <td>Dramatic Editorial Edgy Masculine</td>\n",
              "      <td>27</td>\n",
              "      <td>30</td>\n",
              "    </tr>\n",
              "    <tr>\n",
              "      <th>1</th>\n",
              "      <td>Masculine, Glam, Vintage, Preppy</td>\n",
              "      <td>Minimalist Romantic Androgynous</td>\n",
              "      <td>27</td>\n",
              "      <td>82</td>\n",
              "    </tr>\n",
              "    <tr>\n",
              "      <th>2</th>\n",
              "      <td>Sexy, Feminine, Edgy, Editorial</td>\n",
              "      <td>Classic Elegant Editorial</td>\n",
              "      <td>25</td>\n",
              "      <td>27</td>\n",
              "    </tr>\n",
              "    <tr>\n",
              "      <th>3</th>\n",
              "      <td>Classic, Editorial, Androgynous, Feminine</td>\n",
              "      <td>Classic Romantic Editorial Vintage</td>\n",
              "      <td>24</td>\n",
              "      <td>73</td>\n",
              "    </tr>\n",
              "    <tr>\n",
              "      <th>4</th>\n",
              "      <td>Maximalist, Androgynous, Elegant, Masculine</td>\n",
              "      <td>Glam Classic Androgynous</td>\n",
              "      <td>21</td>\n",
              "      <td>47</td>\n",
              "    </tr>\n",
              "    <tr>\n",
              "      <th>...</th>\n",
              "      <td>...</td>\n",
              "      <td>...</td>\n",
              "      <td>...</td>\n",
              "      <td>...</td>\n",
              "    </tr>\n",
              "    <tr>\n",
              "      <th>73438</th>\n",
              "      <td>Maximalist, Minimalist, Classic, Feminine</td>\n",
              "      <td>Classic Edgy Androgynous</td>\n",
              "      <td>38</td>\n",
              "      <td>91</td>\n",
              "    </tr>\n",
              "    <tr>\n",
              "      <th>73439</th>\n",
              "      <td>Glam, Androgynous, Maximalist, Editorial</td>\n",
              "      <td>Vintage Editorial Feminine</td>\n",
              "      <td>24</td>\n",
              "      <td>54</td>\n",
              "    </tr>\n",
              "    <tr>\n",
              "      <th>73440</th>\n",
              "      <td>Feminine, Classic</td>\n",
              "      <td>Feminine Classic</td>\n",
              "      <td>0</td>\n",
              "      <td>25</td>\n",
              "    </tr>\n",
              "    <tr>\n",
              "      <th>73441</th>\n",
              "      <td>funky, mature, nice</td>\n",
              "      <td>funky mature nice</td>\n",
              "      <td>24</td>\n",
              "      <td>25</td>\n",
              "    </tr>\n",
              "    <tr>\n",
              "      <th>73442</th>\n",
              "      <td>less than 18, $25 - $49, Casual/Everyday, nice</td>\n",
              "      <td>less than 18 $25 - $49 Casual/Everyday nice</td>\n",
              "      <td>24</td>\n",
              "      <td>12</td>\n",
              "    </tr>\n",
              "  </tbody>\n",
              "</table>\n",
              "<p>73443 rows × 4 columns</p>\n",
              "</div>"
            ],
            "text/plain": [
              "                                             Profiles  \\\n",
              "0                     Masculine, Casual, Preppy, Glam   \n",
              "1                    Masculine, Glam, Vintage, Preppy   \n",
              "2                     Sexy, Feminine, Edgy, Editorial   \n",
              "3           Classic, Editorial, Androgynous, Feminine   \n",
              "4         Maximalist, Androgynous, Elegant, Masculine   \n",
              "...                                               ...   \n",
              "73438       Maximalist, Minimalist, Classic, Feminine   \n",
              "73439        Glam, Androgynous, Maximalist, Editorial   \n",
              "73440                               Feminine, Classic   \n",
              "73441                             funky, mature, nice   \n",
              "73442  less than 18, $25 - $49, Casual/Everyday, nice   \n",
              "\n",
              "                                             Style  Age Rate  \n",
              "0                Dramatic Editorial Edgy Masculine   27   30  \n",
              "1                  Minimalist Romantic Androgynous   27   82  \n",
              "2                        Classic Elegant Editorial   25   27  \n",
              "3               Classic Romantic Editorial Vintage   24   73  \n",
              "4                         Glam Classic Androgynous   21   47  \n",
              "...                                            ...  ...  ...  \n",
              "73438                     Classic Edgy Androgynous   38   91  \n",
              "73439                   Vintage Editorial Feminine   24   54  \n",
              "73440                             Feminine Classic    0   25  \n",
              "73441                            funky mature nice   24   25  \n",
              "73442  less than 18 $25 - $49 Casual/Everyday nice   24   12  \n",
              "\n",
              "[73443 rows x 4 columns]"
            ]
          },
          "metadata": {},
          "execution_count": 4
        }
      ],
      "metadata": {
        "colab": {
          "base_uri": "https://localhost:8080/",
          "height": 423
        },
        "id": "BJBUwlvxZbLM",
        "outputId": "bc9b31fd-d361-4a58-c564-33a2b26fc2ca"
      }
    },
    {
      "cell_type": "code",
      "execution_count": 5,
      "source": [
        "def vectorization(df, columns):\n",
        "    \"\"\"\n",
        "    Using recursion, iterate through the df until all the categories have been vectorized\n",
        "    \"\"\"\n",
        "    column_name = columns[0]\n",
        "    \n",
        "    # Checking if the column name has been removed already\n",
        "    if column_name not in ['Profiles', 'Style']:\n",
        "        return df\n",
        "    \n",
        "    else:\n",
        "        # Instantiating the Vectorizer\n",
        "        vectorizer = CountVectorizer()\n",
        "        \n",
        "        # Fitting the vectorizer to the Bios\n",
        "        x = vectorizer.fit_transform(df[column_name])\n",
        "\n",
        "        # Creating a new DF that contains the vectorized words\n",
        "        df_wrds = pd.DataFrame(x.toarray(), columns=vectorizer.get_feature_names_out())\n",
        "\n",
        "        # Concating the words DF with the original DF\n",
        "        df = df.loc[~df.index.duplicated(keep='first')]\n",
        "        df_wrds = df_wrds.loc[~df_wrds.index.duplicated(keep='first')]\n",
        "        new_df = pd.concat([df, df_wrds], axis=1)\n",
        "\n",
        "        # Dropping the column because it is no longer needed in place of vectorization\n",
        "        new_df = new_df.drop(column_name, axis=1)\n",
        "        new_df = new_df.dropna()\n",
        "        new_df = new_df.reset_index(drop=True)\n",
        "        \n",
        "        return vectorization(new_df, new_df.columns) "
      ],
      "outputs": [],
      "metadata": {
        "id": "bI0-rGeaZhlT"
      }
    },
    {
      "cell_type": "code",
      "execution_count": 6,
      "source": [
        "# Creating the vectorized DF\n",
        "vect_df = vectorization(df, df.columns)\n",
        "vect_df"
      ],
      "outputs": [
        {
          "output_type": "execute_result",
          "data": {
            "text/html": [
              "<div>\n",
              "<style scoped>\n",
              "    .dataframe tbody tr th:only-of-type {\n",
              "        vertical-align: middle;\n",
              "    }\n",
              "\n",
              "    .dataframe tbody tr th {\n",
              "        vertical-align: top;\n",
              "    }\n",
              "\n",
              "    .dataframe thead th {\n",
              "        text-align: right;\n",
              "    }\n",
              "</style>\n",
              "<table border=\"1\" class=\"dataframe\">\n",
              "  <thead>\n",
              "    <tr style=\"text-align: right;\">\n",
              "      <th></th>\n",
              "      <th>Age</th>\n",
              "      <th>Rate</th>\n",
              "      <th>18</th>\n",
              "      <th>25</th>\n",
              "      <th>49</th>\n",
              "      <th>androgynous</th>\n",
              "      <th>boho</th>\n",
              "      <th>casual</th>\n",
              "      <th>classic</th>\n",
              "      <th>dramatic</th>\n",
              "      <th>...</th>\n",
              "      <th>mature</th>\n",
              "      <th>maximalist</th>\n",
              "      <th>minimalist</th>\n",
              "      <th>nice</th>\n",
              "      <th>preppy</th>\n",
              "      <th>romantic</th>\n",
              "      <th>sexy</th>\n",
              "      <th>streetwear</th>\n",
              "      <th>than</th>\n",
              "      <th>vintage</th>\n",
              "    </tr>\n",
              "  </thead>\n",
              "  <tbody>\n",
              "    <tr>\n",
              "      <th>0</th>\n",
              "      <td>27</td>\n",
              "      <td>30</td>\n",
              "      <td>0</td>\n",
              "      <td>0</td>\n",
              "      <td>0</td>\n",
              "      <td>0</td>\n",
              "      <td>0</td>\n",
              "      <td>1</td>\n",
              "      <td>0</td>\n",
              "      <td>0</td>\n",
              "      <td>...</td>\n",
              "      <td>0</td>\n",
              "      <td>0</td>\n",
              "      <td>0</td>\n",
              "      <td>0</td>\n",
              "      <td>0</td>\n",
              "      <td>0</td>\n",
              "      <td>0</td>\n",
              "      <td>0</td>\n",
              "      <td>0</td>\n",
              "      <td>0</td>\n",
              "    </tr>\n",
              "    <tr>\n",
              "      <th>1</th>\n",
              "      <td>27</td>\n",
              "      <td>82</td>\n",
              "      <td>0</td>\n",
              "      <td>0</td>\n",
              "      <td>0</td>\n",
              "      <td>0</td>\n",
              "      <td>0</td>\n",
              "      <td>0</td>\n",
              "      <td>0</td>\n",
              "      <td>0</td>\n",
              "      <td>...</td>\n",
              "      <td>0</td>\n",
              "      <td>0</td>\n",
              "      <td>1</td>\n",
              "      <td>0</td>\n",
              "      <td>0</td>\n",
              "      <td>1</td>\n",
              "      <td>0</td>\n",
              "      <td>0</td>\n",
              "      <td>0</td>\n",
              "      <td>0</td>\n",
              "    </tr>\n",
              "    <tr>\n",
              "      <th>2</th>\n",
              "      <td>25</td>\n",
              "      <td>27</td>\n",
              "      <td>0</td>\n",
              "      <td>0</td>\n",
              "      <td>0</td>\n",
              "      <td>0</td>\n",
              "      <td>0</td>\n",
              "      <td>0</td>\n",
              "      <td>0</td>\n",
              "      <td>0</td>\n",
              "      <td>...</td>\n",
              "      <td>0</td>\n",
              "      <td>0</td>\n",
              "      <td>0</td>\n",
              "      <td>0</td>\n",
              "      <td>0</td>\n",
              "      <td>0</td>\n",
              "      <td>0</td>\n",
              "      <td>0</td>\n",
              "      <td>0</td>\n",
              "      <td>0</td>\n",
              "    </tr>\n",
              "    <tr>\n",
              "      <th>3</th>\n",
              "      <td>24</td>\n",
              "      <td>73</td>\n",
              "      <td>0</td>\n",
              "      <td>0</td>\n",
              "      <td>0</td>\n",
              "      <td>1</td>\n",
              "      <td>0</td>\n",
              "      <td>0</td>\n",
              "      <td>1</td>\n",
              "      <td>0</td>\n",
              "      <td>...</td>\n",
              "      <td>0</td>\n",
              "      <td>0</td>\n",
              "      <td>0</td>\n",
              "      <td>0</td>\n",
              "      <td>0</td>\n",
              "      <td>1</td>\n",
              "      <td>0</td>\n",
              "      <td>0</td>\n",
              "      <td>0</td>\n",
              "      <td>1</td>\n",
              "    </tr>\n",
              "    <tr>\n",
              "      <th>4</th>\n",
              "      <td>21</td>\n",
              "      <td>47</td>\n",
              "      <td>0</td>\n",
              "      <td>0</td>\n",
              "      <td>0</td>\n",
              "      <td>1</td>\n",
              "      <td>0</td>\n",
              "      <td>0</td>\n",
              "      <td>0</td>\n",
              "      <td>0</td>\n",
              "      <td>...</td>\n",
              "      <td>0</td>\n",
              "      <td>0</td>\n",
              "      <td>0</td>\n",
              "      <td>0</td>\n",
              "      <td>0</td>\n",
              "      <td>0</td>\n",
              "      <td>0</td>\n",
              "      <td>0</td>\n",
              "      <td>0</td>\n",
              "      <td>0</td>\n",
              "    </tr>\n",
              "    <tr>\n",
              "      <th>...</th>\n",
              "      <td>...</td>\n",
              "      <td>...</td>\n",
              "      <td>...</td>\n",
              "      <td>...</td>\n",
              "      <td>...</td>\n",
              "      <td>...</td>\n",
              "      <td>...</td>\n",
              "      <td>...</td>\n",
              "      <td>...</td>\n",
              "      <td>...</td>\n",
              "      <td>...</td>\n",
              "      <td>...</td>\n",
              "      <td>...</td>\n",
              "      <td>...</td>\n",
              "      <td>...</td>\n",
              "      <td>...</td>\n",
              "      <td>...</td>\n",
              "      <td>...</td>\n",
              "      <td>...</td>\n",
              "      <td>...</td>\n",
              "      <td>...</td>\n",
              "    </tr>\n",
              "    <tr>\n",
              "      <th>73438</th>\n",
              "      <td>38</td>\n",
              "      <td>91</td>\n",
              "      <td>0</td>\n",
              "      <td>0</td>\n",
              "      <td>0</td>\n",
              "      <td>0</td>\n",
              "      <td>0</td>\n",
              "      <td>0</td>\n",
              "      <td>1</td>\n",
              "      <td>0</td>\n",
              "      <td>...</td>\n",
              "      <td>0</td>\n",
              "      <td>0</td>\n",
              "      <td>0</td>\n",
              "      <td>0</td>\n",
              "      <td>0</td>\n",
              "      <td>0</td>\n",
              "      <td>0</td>\n",
              "      <td>0</td>\n",
              "      <td>0</td>\n",
              "      <td>0</td>\n",
              "    </tr>\n",
              "    <tr>\n",
              "      <th>73439</th>\n",
              "      <td>24</td>\n",
              "      <td>54</td>\n",
              "      <td>0</td>\n",
              "      <td>0</td>\n",
              "      <td>0</td>\n",
              "      <td>1</td>\n",
              "      <td>0</td>\n",
              "      <td>0</td>\n",
              "      <td>0</td>\n",
              "      <td>0</td>\n",
              "      <td>...</td>\n",
              "      <td>0</td>\n",
              "      <td>0</td>\n",
              "      <td>0</td>\n",
              "      <td>0</td>\n",
              "      <td>0</td>\n",
              "      <td>0</td>\n",
              "      <td>0</td>\n",
              "      <td>0</td>\n",
              "      <td>0</td>\n",
              "      <td>1</td>\n",
              "    </tr>\n",
              "    <tr>\n",
              "      <th>73440</th>\n",
              "      <td>0</td>\n",
              "      <td>25</td>\n",
              "      <td>0</td>\n",
              "      <td>0</td>\n",
              "      <td>0</td>\n",
              "      <td>0</td>\n",
              "      <td>0</td>\n",
              "      <td>0</td>\n",
              "      <td>1</td>\n",
              "      <td>0</td>\n",
              "      <td>...</td>\n",
              "      <td>0</td>\n",
              "      <td>0</td>\n",
              "      <td>0</td>\n",
              "      <td>0</td>\n",
              "      <td>0</td>\n",
              "      <td>0</td>\n",
              "      <td>0</td>\n",
              "      <td>0</td>\n",
              "      <td>0</td>\n",
              "      <td>0</td>\n",
              "    </tr>\n",
              "    <tr>\n",
              "      <th>73441</th>\n",
              "      <td>24</td>\n",
              "      <td>25</td>\n",
              "      <td>0</td>\n",
              "      <td>0</td>\n",
              "      <td>0</td>\n",
              "      <td>0</td>\n",
              "      <td>0</td>\n",
              "      <td>0</td>\n",
              "      <td>0</td>\n",
              "      <td>0</td>\n",
              "      <td>...</td>\n",
              "      <td>1</td>\n",
              "      <td>0</td>\n",
              "      <td>0</td>\n",
              "      <td>1</td>\n",
              "      <td>0</td>\n",
              "      <td>0</td>\n",
              "      <td>0</td>\n",
              "      <td>0</td>\n",
              "      <td>0</td>\n",
              "      <td>0</td>\n",
              "    </tr>\n",
              "    <tr>\n",
              "      <th>73442</th>\n",
              "      <td>24</td>\n",
              "      <td>12</td>\n",
              "      <td>1</td>\n",
              "      <td>1</td>\n",
              "      <td>1</td>\n",
              "      <td>0</td>\n",
              "      <td>0</td>\n",
              "      <td>1</td>\n",
              "      <td>0</td>\n",
              "      <td>0</td>\n",
              "      <td>...</td>\n",
              "      <td>0</td>\n",
              "      <td>0</td>\n",
              "      <td>0</td>\n",
              "      <td>1</td>\n",
              "      <td>0</td>\n",
              "      <td>0</td>\n",
              "      <td>0</td>\n",
              "      <td>0</td>\n",
              "      <td>1</td>\n",
              "      <td>0</td>\n",
              "    </tr>\n",
              "  </tbody>\n",
              "</table>\n",
              "<p>73443 rows × 56 columns</p>\n",
              "</div>"
            ],
            "text/plain": [
              "       Age Rate  18  25  49  androgynous  boho  casual  classic  dramatic  \\\n",
              "0       27   30   0   0   0            0     0       1        0         0   \n",
              "1       27   82   0   0   0            0     0       0        0         0   \n",
              "2       25   27   0   0   0            0     0       0        0         0   \n",
              "3       24   73   0   0   0            1     0       0        1         0   \n",
              "4       21   47   0   0   0            1     0       0        0         0   \n",
              "...    ...  ...  ..  ..  ..          ...   ...     ...      ...       ...   \n",
              "73438   38   91   0   0   0            0     0       0        1         0   \n",
              "73439   24   54   0   0   0            1     0       0        0         0   \n",
              "73440    0   25   0   0   0            0     0       0        1         0   \n",
              "73441   24   25   0   0   0            0     0       0        0         0   \n",
              "73442   24   12   1   1   1            0     0       1        0         0   \n",
              "\n",
              "       ...  mature  maximalist  minimalist  nice  preppy  romantic  sexy  \\\n",
              "0      ...       0           0           0     0       0         0     0   \n",
              "1      ...       0           0           1     0       0         1     0   \n",
              "2      ...       0           0           0     0       0         0     0   \n",
              "3      ...       0           0           0     0       0         1     0   \n",
              "4      ...       0           0           0     0       0         0     0   \n",
              "...    ...     ...         ...         ...   ...     ...       ...   ...   \n",
              "73438  ...       0           0           0     0       0         0     0   \n",
              "73439  ...       0           0           0     0       0         0     0   \n",
              "73440  ...       0           0           0     0       0         0     0   \n",
              "73441  ...       1           0           0     1       0         0     0   \n",
              "73442  ...       0           0           0     1       0         0     0   \n",
              "\n",
              "       streetwear  than  vintage  \n",
              "0               0     0        0  \n",
              "1               0     0        0  \n",
              "2               0     0        0  \n",
              "3               0     0        1  \n",
              "4               0     0        0  \n",
              "...           ...   ...      ...  \n",
              "73438           0     0        0  \n",
              "73439           0     0        1  \n",
              "73440           0     0        0  \n",
              "73441           0     0        0  \n",
              "73442           0     1        0  \n",
              "\n",
              "[73443 rows x 56 columns]"
            ]
          },
          "metadata": {},
          "execution_count": 6
        }
      ],
      "metadata": {
        "colab": {
          "base_uri": "https://localhost:8080/",
          "height": 487
        },
        "id": "XkhkryNrZ5xU",
        "outputId": "cdbc2589-7264-4ae9-a02f-5e40be4e3e42"
      }
    },
    {
      "cell_type": "code",
      "execution_count": 7,
      "source": [
        "scaler = MinMaxScaler()\n",
        "\n",
        "vect_df = pd.DataFrame(scaler.fit_transform(vect_df), index=vect_df.index, columns=vect_df.columns)"
      ],
      "outputs": [],
      "metadata": {
        "id": "0gIlm5ePZ_Ud"
      }
    },
    {
      "cell_type": "code",
      "execution_count": 8,
      "source": [
        "vect_df"
      ],
      "outputs": [
        {
          "output_type": "execute_result",
          "data": {
            "text/html": [
              "<div>\n",
              "<style scoped>\n",
              "    .dataframe tbody tr th:only-of-type {\n",
              "        vertical-align: middle;\n",
              "    }\n",
              "\n",
              "    .dataframe tbody tr th {\n",
              "        vertical-align: top;\n",
              "    }\n",
              "\n",
              "    .dataframe thead th {\n",
              "        text-align: right;\n",
              "    }\n",
              "</style>\n",
              "<table border=\"1\" class=\"dataframe\">\n",
              "  <thead>\n",
              "    <tr style=\"text-align: right;\">\n",
              "      <th></th>\n",
              "      <th>Age</th>\n",
              "      <th>Rate</th>\n",
              "      <th>18</th>\n",
              "      <th>25</th>\n",
              "      <th>49</th>\n",
              "      <th>androgynous</th>\n",
              "      <th>boho</th>\n",
              "      <th>casual</th>\n",
              "      <th>classic</th>\n",
              "      <th>dramatic</th>\n",
              "      <th>...</th>\n",
              "      <th>mature</th>\n",
              "      <th>maximalist</th>\n",
              "      <th>minimalist</th>\n",
              "      <th>nice</th>\n",
              "      <th>preppy</th>\n",
              "      <th>romantic</th>\n",
              "      <th>sexy</th>\n",
              "      <th>streetwear</th>\n",
              "      <th>than</th>\n",
              "      <th>vintage</th>\n",
              "    </tr>\n",
              "  </thead>\n",
              "  <tbody>\n",
              "    <tr>\n",
              "      <th>0</th>\n",
              "      <td>0.500000</td>\n",
              "      <td>0.073171</td>\n",
              "      <td>0.0</td>\n",
              "      <td>0.0</td>\n",
              "      <td>0.0</td>\n",
              "      <td>0.0</td>\n",
              "      <td>0.0</td>\n",
              "      <td>1.0</td>\n",
              "      <td>0.0</td>\n",
              "      <td>0.0</td>\n",
              "      <td>...</td>\n",
              "      <td>0.0</td>\n",
              "      <td>0.0</td>\n",
              "      <td>0.0</td>\n",
              "      <td>0.0</td>\n",
              "      <td>0.0</td>\n",
              "      <td>0.0</td>\n",
              "      <td>0.0</td>\n",
              "      <td>0.0</td>\n",
              "      <td>0.0</td>\n",
              "      <td>0.0</td>\n",
              "    </tr>\n",
              "    <tr>\n",
              "      <th>1</th>\n",
              "      <td>0.500000</td>\n",
              "      <td>0.284553</td>\n",
              "      <td>0.0</td>\n",
              "      <td>0.0</td>\n",
              "      <td>0.0</td>\n",
              "      <td>0.0</td>\n",
              "      <td>0.0</td>\n",
              "      <td>0.0</td>\n",
              "      <td>0.0</td>\n",
              "      <td>0.0</td>\n",
              "      <td>...</td>\n",
              "      <td>0.0</td>\n",
              "      <td>0.0</td>\n",
              "      <td>1.0</td>\n",
              "      <td>0.0</td>\n",
              "      <td>0.0</td>\n",
              "      <td>1.0</td>\n",
              "      <td>0.0</td>\n",
              "      <td>0.0</td>\n",
              "      <td>0.0</td>\n",
              "      <td>0.0</td>\n",
              "    </tr>\n",
              "    <tr>\n",
              "      <th>2</th>\n",
              "      <td>0.462963</td>\n",
              "      <td>0.060976</td>\n",
              "      <td>0.0</td>\n",
              "      <td>0.0</td>\n",
              "      <td>0.0</td>\n",
              "      <td>0.0</td>\n",
              "      <td>0.0</td>\n",
              "      <td>0.0</td>\n",
              "      <td>0.0</td>\n",
              "      <td>0.0</td>\n",
              "      <td>...</td>\n",
              "      <td>0.0</td>\n",
              "      <td>0.0</td>\n",
              "      <td>0.0</td>\n",
              "      <td>0.0</td>\n",
              "      <td>0.0</td>\n",
              "      <td>0.0</td>\n",
              "      <td>0.0</td>\n",
              "      <td>0.0</td>\n",
              "      <td>0.0</td>\n",
              "      <td>0.0</td>\n",
              "    </tr>\n",
              "    <tr>\n",
              "      <th>3</th>\n",
              "      <td>0.444444</td>\n",
              "      <td>0.247967</td>\n",
              "      <td>0.0</td>\n",
              "      <td>0.0</td>\n",
              "      <td>0.0</td>\n",
              "      <td>1.0</td>\n",
              "      <td>0.0</td>\n",
              "      <td>0.0</td>\n",
              "      <td>1.0</td>\n",
              "      <td>0.0</td>\n",
              "      <td>...</td>\n",
              "      <td>0.0</td>\n",
              "      <td>0.0</td>\n",
              "      <td>0.0</td>\n",
              "      <td>0.0</td>\n",
              "      <td>0.0</td>\n",
              "      <td>1.0</td>\n",
              "      <td>0.0</td>\n",
              "      <td>0.0</td>\n",
              "      <td>0.0</td>\n",
              "      <td>1.0</td>\n",
              "    </tr>\n",
              "    <tr>\n",
              "      <th>4</th>\n",
              "      <td>0.388889</td>\n",
              "      <td>0.142276</td>\n",
              "      <td>0.0</td>\n",
              "      <td>0.0</td>\n",
              "      <td>0.0</td>\n",
              "      <td>1.0</td>\n",
              "      <td>0.0</td>\n",
              "      <td>0.0</td>\n",
              "      <td>0.0</td>\n",
              "      <td>0.0</td>\n",
              "      <td>...</td>\n",
              "      <td>0.0</td>\n",
              "      <td>0.0</td>\n",
              "      <td>0.0</td>\n",
              "      <td>0.0</td>\n",
              "      <td>0.0</td>\n",
              "      <td>0.0</td>\n",
              "      <td>0.0</td>\n",
              "      <td>0.0</td>\n",
              "      <td>0.0</td>\n",
              "      <td>0.0</td>\n",
              "    </tr>\n",
              "    <tr>\n",
              "      <th>...</th>\n",
              "      <td>...</td>\n",
              "      <td>...</td>\n",
              "      <td>...</td>\n",
              "      <td>...</td>\n",
              "      <td>...</td>\n",
              "      <td>...</td>\n",
              "      <td>...</td>\n",
              "      <td>...</td>\n",
              "      <td>...</td>\n",
              "      <td>...</td>\n",
              "      <td>...</td>\n",
              "      <td>...</td>\n",
              "      <td>...</td>\n",
              "      <td>...</td>\n",
              "      <td>...</td>\n",
              "      <td>...</td>\n",
              "      <td>...</td>\n",
              "      <td>...</td>\n",
              "      <td>...</td>\n",
              "      <td>...</td>\n",
              "      <td>...</td>\n",
              "    </tr>\n",
              "    <tr>\n",
              "      <th>73438</th>\n",
              "      <td>0.703704</td>\n",
              "      <td>0.321138</td>\n",
              "      <td>0.0</td>\n",
              "      <td>0.0</td>\n",
              "      <td>0.0</td>\n",
              "      <td>0.0</td>\n",
              "      <td>0.0</td>\n",
              "      <td>0.0</td>\n",
              "      <td>1.0</td>\n",
              "      <td>0.0</td>\n",
              "      <td>...</td>\n",
              "      <td>0.0</td>\n",
              "      <td>0.0</td>\n",
              "      <td>0.0</td>\n",
              "      <td>0.0</td>\n",
              "      <td>0.0</td>\n",
              "      <td>0.0</td>\n",
              "      <td>0.0</td>\n",
              "      <td>0.0</td>\n",
              "      <td>0.0</td>\n",
              "      <td>0.0</td>\n",
              "    </tr>\n",
              "    <tr>\n",
              "      <th>73439</th>\n",
              "      <td>0.444444</td>\n",
              "      <td>0.170732</td>\n",
              "      <td>0.0</td>\n",
              "      <td>0.0</td>\n",
              "      <td>0.0</td>\n",
              "      <td>1.0</td>\n",
              "      <td>0.0</td>\n",
              "      <td>0.0</td>\n",
              "      <td>0.0</td>\n",
              "      <td>0.0</td>\n",
              "      <td>...</td>\n",
              "      <td>0.0</td>\n",
              "      <td>0.0</td>\n",
              "      <td>0.0</td>\n",
              "      <td>0.0</td>\n",
              "      <td>0.0</td>\n",
              "      <td>0.0</td>\n",
              "      <td>0.0</td>\n",
              "      <td>0.0</td>\n",
              "      <td>0.0</td>\n",
              "      <td>1.0</td>\n",
              "    </tr>\n",
              "    <tr>\n",
              "      <th>73440</th>\n",
              "      <td>0.000000</td>\n",
              "      <td>0.052846</td>\n",
              "      <td>0.0</td>\n",
              "      <td>0.0</td>\n",
              "      <td>0.0</td>\n",
              "      <td>0.0</td>\n",
              "      <td>0.0</td>\n",
              "      <td>0.0</td>\n",
              "      <td>1.0</td>\n",
              "      <td>0.0</td>\n",
              "      <td>...</td>\n",
              "      <td>0.0</td>\n",
              "      <td>0.0</td>\n",
              "      <td>0.0</td>\n",
              "      <td>0.0</td>\n",
              "      <td>0.0</td>\n",
              "      <td>0.0</td>\n",
              "      <td>0.0</td>\n",
              "      <td>0.0</td>\n",
              "      <td>0.0</td>\n",
              "      <td>0.0</td>\n",
              "    </tr>\n",
              "    <tr>\n",
              "      <th>73441</th>\n",
              "      <td>0.444444</td>\n",
              "      <td>0.052846</td>\n",
              "      <td>0.0</td>\n",
              "      <td>0.0</td>\n",
              "      <td>0.0</td>\n",
              "      <td>0.0</td>\n",
              "      <td>0.0</td>\n",
              "      <td>0.0</td>\n",
              "      <td>0.0</td>\n",
              "      <td>0.0</td>\n",
              "      <td>...</td>\n",
              "      <td>1.0</td>\n",
              "      <td>0.0</td>\n",
              "      <td>0.0</td>\n",
              "      <td>1.0</td>\n",
              "      <td>0.0</td>\n",
              "      <td>0.0</td>\n",
              "      <td>0.0</td>\n",
              "      <td>0.0</td>\n",
              "      <td>0.0</td>\n",
              "      <td>0.0</td>\n",
              "    </tr>\n",
              "    <tr>\n",
              "      <th>73442</th>\n",
              "      <td>0.444444</td>\n",
              "      <td>0.000000</td>\n",
              "      <td>1.0</td>\n",
              "      <td>1.0</td>\n",
              "      <td>1.0</td>\n",
              "      <td>0.0</td>\n",
              "      <td>0.0</td>\n",
              "      <td>1.0</td>\n",
              "      <td>0.0</td>\n",
              "      <td>0.0</td>\n",
              "      <td>...</td>\n",
              "      <td>0.0</td>\n",
              "      <td>0.0</td>\n",
              "      <td>0.0</td>\n",
              "      <td>1.0</td>\n",
              "      <td>0.0</td>\n",
              "      <td>0.0</td>\n",
              "      <td>0.0</td>\n",
              "      <td>0.0</td>\n",
              "      <td>1.0</td>\n",
              "      <td>0.0</td>\n",
              "    </tr>\n",
              "  </tbody>\n",
              "</table>\n",
              "<p>73443 rows × 56 columns</p>\n",
              "</div>"
            ],
            "text/plain": [
              "            Age      Rate   18   25   49  androgynous  boho  casual  classic  \\\n",
              "0      0.500000  0.073171  0.0  0.0  0.0          0.0   0.0     1.0      0.0   \n",
              "1      0.500000  0.284553  0.0  0.0  0.0          0.0   0.0     0.0      0.0   \n",
              "2      0.462963  0.060976  0.0  0.0  0.0          0.0   0.0     0.0      0.0   \n",
              "3      0.444444  0.247967  0.0  0.0  0.0          1.0   0.0     0.0      1.0   \n",
              "4      0.388889  0.142276  0.0  0.0  0.0          1.0   0.0     0.0      0.0   \n",
              "...         ...       ...  ...  ...  ...          ...   ...     ...      ...   \n",
              "73438  0.703704  0.321138  0.0  0.0  0.0          0.0   0.0     0.0      1.0   \n",
              "73439  0.444444  0.170732  0.0  0.0  0.0          1.0   0.0     0.0      0.0   \n",
              "73440  0.000000  0.052846  0.0  0.0  0.0          0.0   0.0     0.0      1.0   \n",
              "73441  0.444444  0.052846  0.0  0.0  0.0          0.0   0.0     0.0      0.0   \n",
              "73442  0.444444  0.000000  1.0  1.0  1.0          0.0   0.0     1.0      0.0   \n",
              "\n",
              "       dramatic  ...  mature  maximalist  minimalist  nice  preppy  romantic  \\\n",
              "0           0.0  ...     0.0         0.0         0.0   0.0     0.0       0.0   \n",
              "1           0.0  ...     0.0         0.0         1.0   0.0     0.0       1.0   \n",
              "2           0.0  ...     0.0         0.0         0.0   0.0     0.0       0.0   \n",
              "3           0.0  ...     0.0         0.0         0.0   0.0     0.0       1.0   \n",
              "4           0.0  ...     0.0         0.0         0.0   0.0     0.0       0.0   \n",
              "...         ...  ...     ...         ...         ...   ...     ...       ...   \n",
              "73438       0.0  ...     0.0         0.0         0.0   0.0     0.0       0.0   \n",
              "73439       0.0  ...     0.0         0.0         0.0   0.0     0.0       0.0   \n",
              "73440       0.0  ...     0.0         0.0         0.0   0.0     0.0       0.0   \n",
              "73441       0.0  ...     1.0         0.0         0.0   1.0     0.0       0.0   \n",
              "73442       0.0  ...     0.0         0.0         0.0   1.0     0.0       0.0   \n",
              "\n",
              "       sexy  streetwear  than  vintage  \n",
              "0       0.0         0.0   0.0      0.0  \n",
              "1       0.0         0.0   0.0      0.0  \n",
              "2       0.0         0.0   0.0      0.0  \n",
              "3       0.0         0.0   0.0      1.0  \n",
              "4       0.0         0.0   0.0      0.0  \n",
              "...     ...         ...   ...      ...  \n",
              "73438   0.0         0.0   0.0      0.0  \n",
              "73439   0.0         0.0   0.0      1.0  \n",
              "73440   0.0         0.0   0.0      0.0  \n",
              "73441   0.0         0.0   0.0      0.0  \n",
              "73442   0.0         0.0   1.0      0.0  \n",
              "\n",
              "[73443 rows x 56 columns]"
            ]
          },
          "metadata": {},
          "execution_count": 8
        }
      ],
      "metadata": {
        "colab": {
          "base_uri": "https://localhost:8080/",
          "height": 487
        },
        "id": "_XbIaltucUR9",
        "outputId": "75d4743e-eeda-47d3-da52-5d1c8d71ad7a"
      }
    },
    {
      "cell_type": "markdown",
      "source": [
        "## PCA"
      ],
      "metadata": {
        "id": "CLky-489cZaT"
      }
    },
    {
      "cell_type": "code",
      "execution_count": 9,
      "source": [
        "from sklearn.decomposition import PCA\n",
        "\n",
        "# Performing dimension reduction\n",
        "# Instantiating PCA\n",
        "pca = PCA()\n",
        "\n",
        "# Fitting and Transforming the DF\n",
        "df_pca = pca.fit_transform(vect_df)\n",
        "\n",
        "# Plotting to determine how many features should the dataset be reduced to\n",
        "plt.style.use(\"bmh\")\n",
        "plt.figure(figsize=(14,4))\n",
        "plt.plot(range(1,vect_df.shape[1]+1), pca.explained_variance_ratio_.cumsum())\n",
        "plt.show()\n",
        "\n",
        "# Finding the exact number of features to maximize the variance in the data\n",
        "total_explained_variance = pca.explained_variance_ratio_.cumsum()\n",
        "n_over_95 = len(total_explained_variance[total_explained_variance>=.99])\n",
        "n_to_reach_95 = vect_df.shape[1] - n_over_95\n",
        "\n",
        "print(\"PCA reduces the # of features from\", vect_df.shape[1], 'to', n_to_reach_95)\n",
        "\n",
        "# Reducing the dataset to the number of features determined before\n",
        "pca = PCA(n_components=n_to_reach_95)\n",
        "\n",
        "# Fitting and transforming the dataset to the stated number of features\n",
        "df_pca = pca.fit_transform(vect_df)\n",
        "\n",
        "# Seeing the variance ratio that still remains after the dataset has been reduced\n",
        "pca.explained_variance_ratio_.cumsum()[-1]"
      ],
      "outputs": [
        {
          "output_type": "display_data",
          "data": {
            "image/png": "[encoded data removed]",
            "text/plain": [
              "<Figure size 1008x288 with 1 Axes>"
            ]
          },
          "metadata": {
            "needs_background": "light"
          }
        },
        {
          "output_type": "stream",
          "name": "stdout",
          "text": [
            "PCA reduces the # of features from 56 to 33\n"
          ]
        },
        {
          "output_type": "execute_result",
          "data": {
            "text/plain": [
              "0.9662688948115962"
            ]
          },
          "metadata": {},
          "execution_count": 9
        }
      ],
      "metadata": {
        "colab": {
          "base_uri": "https://localhost:8080/"
        },
        "id": "kOT8a2-zcbcW",
        "outputId": "9874b48f-566b-492d-9d21-1dc0fc84cc61"
      }
    },
    {
      "cell_type": "code",
      "execution_count": 10,
      "source": [
        "# Instantiating KMeans\n",
        "k_means = KMeans(n_clusters=4)\n",
        "\n",
        "# Fitting\n",
        "k_means.fit(df_pca)\n",
        "\n",
        "# Getting cluster assignments\n",
        "cluster_assignments = k_means.predict(df_pca)\n",
        "\n",
        "# Setting an evaluation score or metric\n",
        "print(calinski_harabasz_score(df_pca, cluster_assignments))"
      ],
      "outputs": [
        {
          "output_type": "stream",
          "name": "stdout",
          "text": [
            "1967.1776046740024\n"
          ]
        }
      ],
      "metadata": {}
    },
    {
      "cell_type": "code",
      "execution_count": 11,
      "source": [
        "# Setting the amount of clusters to test out\n",
        "# cluster_cnt = [i for i in range(2, , 2)]\n",
        "\n",
        "# Establishing empty lists to store the scores for the evaluation metrics\n",
        "ch_scores = []\n",
        "\n",
        "s_scores = []\n",
        "\n",
        "db_scores = []\n",
        "cluster_cnt = [i for i in range(2, 40, 2)]\n",
        "\n",
        "# Looping through different iterations for the number of clusters\n",
        "for i in tqdm(cluster_cnt):\n",
        "    \n",
        "    # Clustering with different number of clusters\n",
        "    k_means = KMeans(n_clusters=i)\n",
        "    \n",
        "    k_means.fit(df_pca)\n",
        "    \n",
        "    cluster_assignments = k_means.predict(df_pca)\n",
        "    \n",
        "    # Appending the scores to the empty lists\n",
        "    ch_scores.append(calinski_harabasz_score(df_pca, cluster_assignments))\n",
        "    \n",
        "    s_scores.append(silhouette_score(df_pca, cluster_assignments))\n",
        "    \n",
        "    db_scores.append(davies_bouldin_score(df_pca, cluster_assignments))"
      ],
      "outputs": [
        {
          "output_type": "display_data",
          "data": {
            "application/vnd.jupyter.widget-view+json": {
              "version_major": 2,
              "version_minor": 0,
              "model_id": "ec5bd7d9a3084a0793cae6ccb9d823e1"
            },
            "text/plain": [
              "  0%|          | 0/19 [00:00<?, ?it/s]"
            ]
          },
          "metadata": {}
        }
      ],
      "metadata": {}
    },
    {
      "cell_type": "markdown",
      "source": [
        "### Using KMeans loss to get optimum number of clusters\n"
      ],
      "metadata": {
        "id": "J4VwGXkiejGr"
      }
    },
    {
      "cell_type": "code",
      "execution_count": 12,
      "source": [
        "def cluster_eval(y, x):\n",
        "    \"\"\"\n",
        "    Prints the scores of a set evaluation metric. Prints out the max and min values of the evaluation scores.\n",
        "    \"\"\"\n",
        "    \n",
        "    # Creating a DataFrame for returning the max and min scores for each cluster\n",
        "    df = pd.DataFrame(columns=['Cluster Score'], index=[i for i in range(2, len(y)+2)])\n",
        "    df['Cluster Score'] = y\n",
        "    \n",
        "    print('Max Value:\\nCluster #', df[df['Cluster Score']==df['Cluster Score'].max()])\n",
        "    print('\\nMin Value:\\nCluster #', df[df['Cluster Score']==df['Cluster Score'].min()])\n",
        "    \n",
        "    # Plotting out the scores based on cluster count\n",
        "    plt.figure(figsize=(16,6))\n",
        "    plt.style.use('bmh')\n",
        "    plt.plot(x,y)\n",
        "    plt.xlabel('# of Clusters')\n",
        "    plt.ylabel('Score')\n",
        "    plt.show()"
      ],
      "outputs": [],
      "metadata": {
        "id": "lQ8oIOdZeyI2"
      }
    },
    {
      "cell_type": "markdown",
      "source": [
        "Cluster Evaluation"
      ],
      "metadata": {
        "id": "Uo7b4jHMe4el"
      }
    },
    {
      "cell_type": "code",
      "execution_count": 13,
      "source": [
        "print(\"The Calinski-Harabasz Score (find max score):\")\n",
        "cluster_eval(ch_scores, cluster_cnt)\n",
        "\n",
        "print(\"\\nThe Silhouette Coefficient Score (find max score):\")\n",
        "cluster_eval(s_scores, cluster_cnt)\n",
        "\n",
        "print(\"\\nThe Davies-Bouldin Score (find minimum score):\")\n",
        "cluster_eval(db_scores, cluster_cnt)"
      ],
      "outputs": [
        {
          "output_type": "stream",
          "name": "stdout",
          "text": [
            "The Calinski-Harabasz Score (find max score):\n",
            "Max Value:\n",
            "Cluster #    Cluster Score\n",
            "2     2104.46738\n",
            "\n",
            "Min Value:\n",
            "Cluster #     Cluster Score\n",
            "20     549.004683\n"
          ]
        },
        {
          "output_type": "display_data",
          "data": {
            "image/png": "[encoded data removed]",
            "text/plain": [
              "<Figure size 1152x432 with 1 Axes>"
            ]
          },
          "metadata": {
            "needs_background": "light"
          }
        },
        {
          "output_type": "stream",
          "name": "stdout",
          "text": [
            "\n",
            "The Silhouette Coefficient Score (find max score):\n",
            "Max Value:\n",
            "Cluster #    Cluster Score\n",
            "3       0.039347\n",
            "\n",
            "Min Value:\n",
            "Cluster #    Cluster Score\n",
            "7       0.028109\n"
          ]
        },
        {
          "output_type": "display_data",
          "data": {
            "image/png": "[encoded data removed]",
            "text/plain": [
              "<Figure size 1152x432 with 1 Axes>"
            ]
          },
          "metadata": {
            "needs_background": "light"
          }
        },
        {
          "output_type": "stream",
          "name": "stdout",
          "text": [
            "\n",
            "The Davies-Bouldin Score (find minimum score):\n",
            "Max Value:\n",
            "Cluster #    Cluster Score\n",
            "2       5.790109\n",
            "\n",
            "Min Value:\n",
            "Cluster #     Cluster Score\n",
            "20       3.604755\n"
          ]
        },
        {
          "output_type": "display_data",
          "data": {
            "image/png": "[encoded data removed]",
            "text/plain": [
              "<Figure size 1152x432 with 1 Axes>"
            ]
          },
          "metadata": {
            "needs_background": "light"
          }
        }
      ],
      "metadata": {
        "colab": {
          "base_uri": "https://localhost:8080/",
          "height": 258
        },
        "id": "S-cGY_xae6jB",
        "outputId": "e71b22ad-7024-40b4-8890-9e3d0dbd5661"
      }
    },
    {
      "cell_type": "markdown",
      "source": [
        "### Running KMeans using optimized stuff\n"
      ],
      "metadata": {
        "id": "7rvRs-0ofjYB"
      }
    },
    {
      "cell_type": "code",
      "execution_count": 14,
      "source": [
        "# Instantiating HAC based on the optimum number of clusters found\n",
        "kmeans = KMeans(n_clusters=3)\n",
        "\n",
        "# Fitting\n",
        "kmeans.fit(df_pca)\n",
        "\n",
        "# Getting cluster assignments\n",
        "cluster_assignments = pd.Series(kmeans.labels_)\n",
        "# print(df.shape[0])\n",
        "# Assigning the clusters to each profile\n",
        "df['Cluster #'] = cluster_assignments\n",
        "\n",
        "vect_df['Cluster #'] = cluster_assignments"
      ],
      "outputs": [],
      "metadata": {
        "id": "fKGZpFWHfl9J"
      }
    },
    {
      "cell_type": "code",
      "execution_count": 15,
      "source": [
        "with open(\"refined_cluster.pkl\",'wb') as fp:\n",
        "    pickle.dump(df, fp)\n",
        "    \n",
        "with open(\"vectorized_refined.pkl\", 'wb') as fp:\n",
        "    pickle.dump(vect_df, fp)"
      ],
      "outputs": [],
      "metadata": {
        "id": "FQqN3ldffxY0"
      }
    },
    {
      "cell_type": "markdown",
      "source": [
        "Matching new profile to previous ones"
      ],
      "metadata": {
        "id": "lzac5y5Mf3DG"
      }
    },
    {
      "cell_type": "code",
      "execution_count": 16,
      "source": [
        "# Importing 3 models\n",
        "from sklearn.dummy import DummyClassifier\n",
        "from sklearn.neighbors import KNeighborsClassifier\n",
        "from sklearn.svm import SVC\n",
        "from sklearn.naive_bayes import ComplementNB\n",
        "from sklearn.linear_model import LogisticRegression\n",
        "from sklearn.ensemble import AdaBoostClassifier"
      ],
      "outputs": [],
      "metadata": {
        "id": "oJTKCElBfzbV"
      }
    },
    {
      "cell_type": "code",
      "execution_count": 17,
      "source": [
        "# Perform training, splitting and testing\n",
        "#  Assigning the split variables\n",
        "X = vect_df.drop([\"Cluster #\"], 1)\n",
        "y = vect_df['Cluster #']\n",
        "\n",
        "# Train, test, split\n",
        "X_train, X_test, y_train, y_test = train_test_split(X, y)"
      ],
      "outputs": [
        {
          "output_type": "stream",
          "name": "stderr",
          "text": [
            "/var/folders/jt/9fgtl63s7gv_96_wct99jv2c0000gn/T/ipykernel_67438/2272284977.py:3: FutureWarning: In a future version of pandas all arguments of DataFrame.drop except for the argument 'labels' will be keyword-only.\n",
            "  X = vect_df.drop([\"Cluster #\"], 1)\n"
          ]
        }
      ],
      "metadata": {
        "id": "UZuCSjiff8kE"
      }
    },
    {
      "cell_type": "markdown",
      "source": [
        "### Finding the Best Model\n",
        "- Dummy (Baseline Model)\n",
        "- KNN\n",
        "- SVM\n",
        "- NaiveBayes\n",
        "- Logistic Regression\n",
        "- Adaboost"
      ],
      "metadata": {
        "id": "CH2xKX6MgH9F"
      }
    },
    {
      "cell_type": "code",
      "execution_count": 18,
      "source": [
        "# Dummy\n",
        "dummy = DummyClassifier(strategy='stratified')\n",
        "\n",
        "# KNN\n",
        "knn = KNeighborsClassifier()\n",
        "\n",
        "# SVM\n",
        "svm = SVC(gamma='scale')\n",
        "\n",
        "# NaiveBayes\n",
        "nb = ComplementNB()\n",
        "\n",
        "# Logistic Regression\n",
        "lr = LogisticRegression()\n",
        "\n",
        "# Adaboost\n",
        "adab = AdaBoostClassifier()\n",
        "\n",
        "# List of models\n",
        "models = [dummy, knn, svm, nb, lr, adab]\n",
        "\n",
        "# List of model names\n",
        "names = ['Dummy', 'KNN', 'SVM', 'NaiveBayes', 'Logistic Regression', 'Adaboost']\n",
        "\n",
        "# Zipping the lists\n",
        "classifiers = dict(zip(names, models))"
      ],
      "outputs": [],
      "metadata": {
        "id": "DXXjaXgFgFz6"
      }
    },
    {
      "cell_type": "code",
      "execution_count": 19,
      "source": [
        "# Visualization of the different cluster counts\n",
        "vect_df['Cluster #'].value_counts().plot(kind='pie', title='Count of Class Distribution');"
      ],
      "outputs": [
        {
          "output_type": "display_data",
          "data": {
            "image/png": "[encoded data removed]",
            "text/plain": [
              "<Figure size 432x288 with 1 Axes>"
            ]
          },
          "metadata": {}
        }
      ],
      "metadata": {
        "id": "9MdYH0AkgLq6"
      }
    },
    {
      "cell_type": "markdown",
      "source": [
        "Since we are dealing with an imbalanced dataset _(because each cluster is not guaranteed to have the same amount of profiles)_, we will resort to using the __Macro Avg__ and __F1 Score__ for evaluating the performances of each model."
      ],
      "metadata": {
        "id": "XJh9Zga3gQuO"
      }
    },
    {
      "cell_type": "code",
      "execution_count": 20,
      "source": [
        "# Dictionary containing the model names and their scores\n",
        "models_f1 = {}\n",
        "\n",
        "# Looping through each model's predictions and getting their classification reports\n",
        "for name, model in tqdm(classifiers.items()):\n",
        "    # Fitting the model\n",
        "    model.fit(X_train, y_train)\n",
        "    \n",
        "    print('\\n'+ name + ' (Macro Avg - F1 Score):')\n",
        "    \n",
        "    # Classification Report\n",
        "    report = classification_report(y_test, model.predict(X_test), output_dict=True)\n",
        "    f1 = report['macro avg']['f1-score']\n",
        "    \n",
        "    # Assigning to the Dictionary\n",
        "    models_f1[name] = f1\n",
        "    \n",
        "    print(f1)"
      ],
      "outputs": [
        {
          "output_type": "display_data",
          "data": {
            "application/vnd.jupyter.widget-view+json": {
              "version_major": 2,
              "version_minor": 0,
              "model_id": "44091ef836624756a804f247d018f03f"
            },
            "text/plain": [
              "  0%|          | 0/6 [00:00<?, ?it/s]"
            ]
          },
          "metadata": {}
        },
        {
          "output_type": "stream",
          "name": "stdout",
          "text": [
            "\n",
            "Dummy (Macro Avg - F1 Score):\n",
            "0.33276579458733896\n",
            "\n",
            "KNN (Macro Avg - F1 Score):\n",
            "0.9641107806330557\n",
            "\n",
            "SVM (Macro Avg - F1 Score):\n",
            "1.0\n",
            "\n",
            "NaiveBayes (Macro Avg - F1 Score):\n",
            "0.9999343505635143\n",
            "\n",
            "Logistic Regression (Macro Avg - F1 Score):\n",
            "1.0\n",
            "\n",
            "Adaboost (Macro Avg - F1 Score):\n",
            "1.0\n"
          ]
        }
      ],
      "metadata": {
        "id": "FuQnT-pRgSjj"
      }
    },
    {
      "cell_type": "markdown",
      "source": [
        "Finding model with the best performance"
      ],
      "metadata": {
        "id": "etkvfNDlgWAJ"
      }
    },
    {
      "cell_type": "code",
      "execution_count": 21,
      "source": [
        "print(max(models_f1, key=models_f1.get), 'Score:', max(models_f1.values()))"
      ],
      "outputs": [
        {
          "output_type": "stream",
          "name": "stdout",
          "text": [
            "SVM Score: 1.0\n"
          ]
        }
      ],
      "metadata": {
        "id": "aPa2KZjsgYJA"
      }
    },
    {
      "cell_type": "code",
      "execution_count": 52,
      "source": [
        "# Fitting the model\n",
        "# nb.fit(X, y)\n",
        "svm.fit(X_train,y_train)"
      ],
      "outputs": [
        {
          "output_type": "execute_result",
          "data": {
            "text/plain": [
              "SVC()"
            ]
          },
          "metadata": {},
          "execution_count": 52
        }
      ],
      "metadata": {
        "id": "mWicC_HBgaMY"
      }
    },
    {
      "cell_type": "code",
      "execution_count": 22,
      "source": [
        "nb.fit(X_train, y_train)"
      ],
      "outputs": [
        {
          "output_type": "execute_result",
          "data": {
            "text/plain": [
              "ComplementNB()"
            ]
          },
          "metadata": {},
          "execution_count": 22
        }
      ],
      "metadata": {}
    },
    {
      "cell_type": "code",
      "execution_count": 53,
      "source": [
        "knn.fit(X_train, y_train)"
      ],
      "outputs": [
        {
          "output_type": "execute_result",
          "data": {
            "text/plain": [
              "KNeighborsClassifier()"
            ]
          },
          "metadata": {},
          "execution_count": 53
        }
      ],
      "metadata": {}
    },
    {
      "cell_type": "markdown",
      "source": [
        "Saving the model"
      ],
      "metadata": {
        "id": "UUVIKcgCgrv-"
      }
    },
    {
      "cell_type": "code",
      "execution_count": 23,
      "source": [
        "from joblib import dump\n",
        "\n",
        "dump(nb, \"refined_model.joblib\")"
      ],
      "outputs": [
        {
          "output_type": "execute_result",
          "data": {
            "text/plain": [
              "['refined_model.joblib']"
            ]
          },
          "metadata": {},
          "execution_count": 23
        }
      ],
      "metadata": {
        "id": "Cz25TvXWgtHk"
      }
    }
  ]
}