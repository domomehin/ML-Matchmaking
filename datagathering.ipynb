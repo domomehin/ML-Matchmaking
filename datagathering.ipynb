{
  "nbformat": 4,
  "nbformat_minor": 2,
  "metadata": {
    "colab": {
      "name": "datagathering.ipynb",
      "provenance": []
    },
    "kernelspec": {
      "name": "python3",
      "display_name": "Python 3.9.7 64-bit ('base': conda)"
    },
    "language_info": {
      "name": "python",
      "version": "3.9.7",
      "mimetype": "text/x-python",
      "codemirror_mode": {
        "name": "ipython",
        "version": 3
      },
      "pygments_lexer": "ipython3",
      "nbconvert_exporter": "python",
      "file_extension": ".py"
    },
    "interpreter": {
      "hash": "8945cacdc0f8c3b7ad660e2d07afafcd1708b98abc9bcb88b24a558d85957bc5"
    }
  },
  "cells": [
    {
      "cell_type": "code",
      "execution_count": 3,
      "source": [
        "import requests\n",
        "import pandas as pd\n",
        "import time\n",
        "import random\n",
        "import re\n",
        "import numpy as np\n",
        "import _pickle as pickle\n",
        "from tqdm.notebook import tqdm\n",
        "from bs4 import BeautifulSoup as bs\n",
        "from scipy.stats import halfnorm"
      ],
      "outputs": [],
      "metadata": {
        "id": "3D-TZakc979G"
      }
    },
    {
      "cell_type": "code",
      "execution_count": 4,
      "source": [
        "from itertools import permutations\n",
        " \n",
        "# Get all permutations of length 4\n",
        "categories = [\"Style\"]\n",
        "perm = permutations([\"Classic\", \"Elegant\", \"Dramatic\", \"Feminine\", \"Sexy\", \"Masculine\", \"Romantic\", \"Casual\", \"Streetwear\", \"Glam\", \"Minimalist\", \"Vintage\", \"Boho\", \"Editorial\", \"Androgynous\", \"Edgy\", \"Preppy\", \"Maximalist\"], 4)\n",
        "styles = []\n",
        "# Print the obtained permutations\n",
        "for i in list(perm):\n",
        "    styles.append(', '.join(i))\n",
        "# styles = np.array(styles)\n",
        "# Creating a DF from the style permutations\n",
        "random.shuffle(styles)\n",
        "styles = pd.DataFrame(styles, columns=[\"Profiles\"])"
      ],
      "outputs": [],
      "metadata": {
        "id": "Co6Wc603C1Wx"
      }
    },
    {
      "cell_type": "code",
      "execution_count": 5,
      "source": [
        "styles"
      ],
      "outputs": [
        {
          "output_type": "execute_result",
          "data": {
            "text/html": [
              "<div>\n",
              "<style scoped>\n",
              "    .dataframe tbody tr th:only-of-type {\n",
              "        vertical-align: middle;\n",
              "    }\n",
              "\n",
              "    .dataframe tbody tr th {\n",
              "        vertical-align: top;\n",
              "    }\n",
              "\n",
              "    .dataframe thead th {\n",
              "        text-align: right;\n",
              "    }\n",
              "</style>\n",
              "<table border=\"1\" class=\"dataframe\">\n",
              "  <thead>\n",
              "    <tr style=\"text-align: right;\">\n",
              "      <th></th>\n",
              "      <th>Profiles</th>\n",
              "    </tr>\n",
              "  </thead>\n",
              "  <tbody>\n",
              "    <tr>\n",
              "      <th>0</th>\n",
              "      <td>Masculine, Casual, Preppy, Glam</td>\n",
              "    </tr>\n",
              "    <tr>\n",
              "      <th>1</th>\n",
              "      <td>Masculine, Glam, Vintage, Preppy</td>\n",
              "    </tr>\n",
              "    <tr>\n",
              "      <th>2</th>\n",
              "      <td>Sexy, Feminine, Edgy, Editorial</td>\n",
              "    </tr>\n",
              "    <tr>\n",
              "      <th>3</th>\n",
              "      <td>Classic, Editorial, Androgynous, Feminine</td>\n",
              "    </tr>\n",
              "    <tr>\n",
              "      <th>4</th>\n",
              "      <td>Maximalist, Androgynous, Elegant, Masculine</td>\n",
              "    </tr>\n",
              "    <tr>\n",
              "      <th>...</th>\n",
              "      <td>...</td>\n",
              "    </tr>\n",
              "    <tr>\n",
              "      <th>73435</th>\n",
              "      <td>Preppy, Casual, Romantic, Editorial</td>\n",
              "    </tr>\n",
              "    <tr>\n",
              "      <th>73436</th>\n",
              "      <td>Editorial, Maximalist, Edgy, Elegant</td>\n",
              "    </tr>\n",
              "    <tr>\n",
              "      <th>73437</th>\n",
              "      <td>Dramatic, Streetwear, Feminine, Editorial</td>\n",
              "    </tr>\n",
              "    <tr>\n",
              "      <th>73438</th>\n",
              "      <td>Maximalist, Minimalist, Classic, Feminine</td>\n",
              "    </tr>\n",
              "    <tr>\n",
              "      <th>73439</th>\n",
              "      <td>Glam, Androgynous, Maximalist, Editorial</td>\n",
              "    </tr>\n",
              "  </tbody>\n",
              "</table>\n",
              "<p>73440 rows × 1 columns</p>\n",
              "</div>"
            ],
            "text/plain": [
              "                                          Profiles\n",
              "0                  Masculine, Casual, Preppy, Glam\n",
              "1                 Masculine, Glam, Vintage, Preppy\n",
              "2                  Sexy, Feminine, Edgy, Editorial\n",
              "3        Classic, Editorial, Androgynous, Feminine\n",
              "4      Maximalist, Androgynous, Elegant, Masculine\n",
              "...                                            ...\n",
              "73435          Preppy, Casual, Romantic, Editorial\n",
              "73436         Editorial, Maximalist, Edgy, Elegant\n",
              "73437    Dramatic, Streetwear, Feminine, Editorial\n",
              "73438    Maximalist, Minimalist, Classic, Feminine\n",
              "73439     Glam, Androgynous, Maximalist, Editorial\n",
              "\n",
              "[73440 rows x 1 columns]"
            ]
          },
          "metadata": {},
          "execution_count": 5
        }
      ],
      "metadata": {
        "colab": {
          "base_uri": "https://localhost:8080/",
          "height": 423
        },
        "id": "qLJ9MhMIEmNV",
        "outputId": "cf2e5c82-dc55-4ab4-db37-cfe8815aa204"
      }
    },
    {
      "cell_type": "code",
      "execution_count": 6,
      "source": [
        "# Creating a DF of the style categories\n",
        "style_df = pd.DataFrame(columns=categories)\n",
        "print(style_df)\n",
        "# Filling in Data\n",
        "for i in style_df.columns:\n",
        "    \n",
        "    # Range of numbers to represent different labels in each category\n",
        "    style_df[i] = np.random.randint(0,18, styles.shape[0])\n",
        "    \n",
        "    # Logic: The numbers represent a specific choice within the categories\n",
        "    # So your number 1 preferred category will have a one and the least will have 18 etc."
      ],
      "outputs": [
        {
          "output_type": "stream",
          "name": "stdout",
          "text": [
            "Empty DataFrame\n",
            "Columns: [Style]\n",
            "Index: []\n"
          ]
        }
      ],
      "metadata": {
        "colab": {
          "base_uri": "https://localhost:8080/"
        },
        "id": "vW31HTwJDEmF",
        "outputId": "c470f8ae-1c58-430f-e82b-67e59048aa12"
      }
    },
    {
      "cell_type": "code",
      "execution_count": 7,
      "source": [
        "style_df"
      ],
      "outputs": [
        {
          "output_type": "execute_result",
          "data": {
            "text/html": [
              "<div>\n",
              "<style scoped>\n",
              "    .dataframe tbody tr th:only-of-type {\n",
              "        vertical-align: middle;\n",
              "    }\n",
              "\n",
              "    .dataframe tbody tr th {\n",
              "        vertical-align: top;\n",
              "    }\n",
              "\n",
              "    .dataframe thead th {\n",
              "        text-align: right;\n",
              "    }\n",
              "</style>\n",
              "<table border=\"1\" class=\"dataframe\">\n",
              "  <thead>\n",
              "    <tr style=\"text-align: right;\">\n",
              "      <th></th>\n",
              "      <th>Style</th>\n",
              "    </tr>\n",
              "  </thead>\n",
              "  <tbody>\n",
              "    <tr>\n",
              "      <th>0</th>\n",
              "      <td>15</td>\n",
              "    </tr>\n",
              "    <tr>\n",
              "      <th>1</th>\n",
              "      <td>12</td>\n",
              "    </tr>\n",
              "    <tr>\n",
              "      <th>2</th>\n",
              "      <td>8</td>\n",
              "    </tr>\n",
              "    <tr>\n",
              "      <th>3</th>\n",
              "      <td>9</td>\n",
              "    </tr>\n",
              "    <tr>\n",
              "      <th>4</th>\n",
              "      <td>2</td>\n",
              "    </tr>\n",
              "    <tr>\n",
              "      <th>...</th>\n",
              "      <td>...</td>\n",
              "    </tr>\n",
              "    <tr>\n",
              "      <th>73435</th>\n",
              "      <td>6</td>\n",
              "    </tr>\n",
              "    <tr>\n",
              "      <th>73436</th>\n",
              "      <td>9</td>\n",
              "    </tr>\n",
              "    <tr>\n",
              "      <th>73437</th>\n",
              "      <td>2</td>\n",
              "    </tr>\n",
              "    <tr>\n",
              "      <th>73438</th>\n",
              "      <td>16</td>\n",
              "    </tr>\n",
              "    <tr>\n",
              "      <th>73439</th>\n",
              "      <td>7</td>\n",
              "    </tr>\n",
              "  </tbody>\n",
              "</table>\n",
              "<p>73440 rows × 1 columns</p>\n",
              "</div>"
            ],
            "text/plain": [
              "       Style\n",
              "0         15\n",
              "1         12\n",
              "2          8\n",
              "3          9\n",
              "4          2\n",
              "...      ...\n",
              "73435      6\n",
              "73436      9\n",
              "73437      2\n",
              "73438     16\n",
              "73439      7\n",
              "\n",
              "[73440 rows x 1 columns]"
            ]
          },
          "metadata": {},
          "execution_count": 7
        }
      ],
      "metadata": {
        "colab": {
          "base_uri": "https://localhost:8080/",
          "height": 423
        },
        "id": "oL0WJEuoFsuh",
        "outputId": "c3084df5-080b-4a0a-e694-f4c4731ebdd2"
      }
    },
    {
      "cell_type": "code",
      "execution_count": 8,
      "source": [
        "# Joining the two dataframes\n",
        "final_df = styles.join(style_df)\n",
        "final_df"
      ],
      "outputs": [
        {
          "output_type": "execute_result",
          "data": {
            "text/html": [
              "<div>\n",
              "<style scoped>\n",
              "    .dataframe tbody tr th:only-of-type {\n",
              "        vertical-align: middle;\n",
              "    }\n",
              "\n",
              "    .dataframe tbody tr th {\n",
              "        vertical-align: top;\n",
              "    }\n",
              "\n",
              "    .dataframe thead th {\n",
              "        text-align: right;\n",
              "    }\n",
              "</style>\n",
              "<table border=\"1\" class=\"dataframe\">\n",
              "  <thead>\n",
              "    <tr style=\"text-align: right;\">\n",
              "      <th></th>\n",
              "      <th>Profiles</th>\n",
              "      <th>Style</th>\n",
              "    </tr>\n",
              "  </thead>\n",
              "  <tbody>\n",
              "    <tr>\n",
              "      <th>0</th>\n",
              "      <td>Masculine, Casual, Preppy, Glam</td>\n",
              "      <td>15</td>\n",
              "    </tr>\n",
              "    <tr>\n",
              "      <th>1</th>\n",
              "      <td>Masculine, Glam, Vintage, Preppy</td>\n",
              "      <td>12</td>\n",
              "    </tr>\n",
              "    <tr>\n",
              "      <th>2</th>\n",
              "      <td>Sexy, Feminine, Edgy, Editorial</td>\n",
              "      <td>8</td>\n",
              "    </tr>\n",
              "    <tr>\n",
              "      <th>3</th>\n",
              "      <td>Classic, Editorial, Androgynous, Feminine</td>\n",
              "      <td>9</td>\n",
              "    </tr>\n",
              "    <tr>\n",
              "      <th>4</th>\n",
              "      <td>Maximalist, Androgynous, Elegant, Masculine</td>\n",
              "      <td>2</td>\n",
              "    </tr>\n",
              "    <tr>\n",
              "      <th>...</th>\n",
              "      <td>...</td>\n",
              "      <td>...</td>\n",
              "    </tr>\n",
              "    <tr>\n",
              "      <th>73435</th>\n",
              "      <td>Preppy, Casual, Romantic, Editorial</td>\n",
              "      <td>6</td>\n",
              "    </tr>\n",
              "    <tr>\n",
              "      <th>73436</th>\n",
              "      <td>Editorial, Maximalist, Edgy, Elegant</td>\n",
              "      <td>9</td>\n",
              "    </tr>\n",
              "    <tr>\n",
              "      <th>73437</th>\n",
              "      <td>Dramatic, Streetwear, Feminine, Editorial</td>\n",
              "      <td>2</td>\n",
              "    </tr>\n",
              "    <tr>\n",
              "      <th>73438</th>\n",
              "      <td>Maximalist, Minimalist, Classic, Feminine</td>\n",
              "      <td>16</td>\n",
              "    </tr>\n",
              "    <tr>\n",
              "      <th>73439</th>\n",
              "      <td>Glam, Androgynous, Maximalist, Editorial</td>\n",
              "      <td>7</td>\n",
              "    </tr>\n",
              "  </tbody>\n",
              "</table>\n",
              "<p>73440 rows × 2 columns</p>\n",
              "</div>"
            ],
            "text/plain": [
              "                                          Profiles  Style\n",
              "0                  Masculine, Casual, Preppy, Glam     15\n",
              "1                 Masculine, Glam, Vintage, Preppy     12\n",
              "2                  Sexy, Feminine, Edgy, Editorial      8\n",
              "3        Classic, Editorial, Androgynous, Feminine      9\n",
              "4      Maximalist, Androgynous, Elegant, Masculine      2\n",
              "...                                            ...    ...\n",
              "73435          Preppy, Casual, Romantic, Editorial      6\n",
              "73436         Editorial, Maximalist, Edgy, Elegant      9\n",
              "73437    Dramatic, Streetwear, Feminine, Editorial      2\n",
              "73438    Maximalist, Minimalist, Classic, Feminine     16\n",
              "73439     Glam, Androgynous, Maximalist, Editorial      7\n",
              "\n",
              "[73440 rows x 2 columns]"
            ]
          },
          "metadata": {},
          "execution_count": 8
        }
      ],
      "metadata": {
        "colab": {
          "base_uri": "https://localhost:8080/",
          "height": 423
        },
        "id": "c77YaA27GV7a",
        "outputId": "f4a231f0-7849-4d33-fb03-f699c13cd3d9"
      }
    },
    {
      "cell_type": "code",
      "execution_count": 9,
      "source": [
        "with open(\"profiles.pkl\", \"wb\") as fp:\n",
        "    pickle.dump(final_df, fp)"
      ],
      "outputs": [],
      "metadata": {
        "id": "Oys_JMXZI8uZ"
      }
    },
    {
      "cell_type": "code",
      "execution_count": 10,
      "source": [
        "with open(\"profiles.pkl\",'rb') as fp:\n",
        "    df = pickle.load(fp)"
      ],
      "outputs": [],
      "metadata": {
        "id": "K7fLkKbaNGdt"
      }
    },
    {
      "cell_type": "code",
      "execution_count": 11,
      "source": [
        "final_df.to_csv (r'profiles_dataframe.csv', index = False, header=True)"
      ],
      "outputs": [],
      "metadata": {
        "id": "3gmlo7f8Jpei"
      }
    },
    {
      "cell_type": "code",
      "execution_count": 26,
      "source": [
        "# Removing the numerical data\n",
        "df = df[['Profiles']]"
      ],
      "outputs": [],
      "metadata": {
        "id": "bg4olrahNp4s"
      }
    },
    {
      "cell_type": "code",
      "execution_count": 27,
      "source": [
        "df"
      ],
      "outputs": [
        {
          "output_type": "execute_result",
          "data": {
            "text/html": [
              "<div>\n",
              "<style scoped>\n",
              "    .dataframe tbody tr th:only-of-type {\n",
              "        vertical-align: middle;\n",
              "    }\n",
              "\n",
              "    .dataframe tbody tr th {\n",
              "        vertical-align: top;\n",
              "    }\n",
              "\n",
              "    .dataframe thead th {\n",
              "        text-align: right;\n",
              "    }\n",
              "</style>\n",
              "<table border=\"1\" class=\"dataframe\">\n",
              "  <thead>\n",
              "    <tr style=\"text-align: right;\">\n",
              "      <th></th>\n",
              "      <th>Profiles</th>\n",
              "    </tr>\n",
              "  </thead>\n",
              "  <tbody>\n",
              "    <tr>\n",
              "      <th>0</th>\n",
              "      <td>Masculine, Casual, Preppy, Glam</td>\n",
              "    </tr>\n",
              "    <tr>\n",
              "      <th>1</th>\n",
              "      <td>Masculine, Glam, Vintage, Preppy</td>\n",
              "    </tr>\n",
              "    <tr>\n",
              "      <th>2</th>\n",
              "      <td>Sexy, Feminine, Edgy, Editorial</td>\n",
              "    </tr>\n",
              "    <tr>\n",
              "      <th>3</th>\n",
              "      <td>Classic, Editorial, Androgynous, Feminine</td>\n",
              "    </tr>\n",
              "    <tr>\n",
              "      <th>4</th>\n",
              "      <td>Maximalist, Androgynous, Elegant, Masculine</td>\n",
              "    </tr>\n",
              "    <tr>\n",
              "      <th>...</th>\n",
              "      <td>...</td>\n",
              "    </tr>\n",
              "    <tr>\n",
              "      <th>73435</th>\n",
              "      <td>Preppy, Casual, Romantic, Editorial</td>\n",
              "    </tr>\n",
              "    <tr>\n",
              "      <th>73436</th>\n",
              "      <td>Editorial, Maximalist, Edgy, Elegant</td>\n",
              "    </tr>\n",
              "    <tr>\n",
              "      <th>73437</th>\n",
              "      <td>Dramatic, Streetwear, Feminine, Editorial</td>\n",
              "    </tr>\n",
              "    <tr>\n",
              "      <th>73438</th>\n",
              "      <td>Maximalist, Minimalist, Classic, Feminine</td>\n",
              "    </tr>\n",
              "    <tr>\n",
              "      <th>73439</th>\n",
              "      <td>Glam, Androgynous, Maximalist, Editorial</td>\n",
              "    </tr>\n",
              "  </tbody>\n",
              "</table>\n",
              "<p>73440 rows × 1 columns</p>\n",
              "</div>"
            ],
            "text/plain": [
              "                                          Profiles\n",
              "0                  Masculine, Casual, Preppy, Glam\n",
              "1                 Masculine, Glam, Vintage, Preppy\n",
              "2                  Sexy, Feminine, Edgy, Editorial\n",
              "3        Classic, Editorial, Androgynous, Feminine\n",
              "4      Maximalist, Androgynous, Elegant, Masculine\n",
              "...                                            ...\n",
              "73435          Preppy, Casual, Romantic, Editorial\n",
              "73436         Editorial, Maximalist, Edgy, Elegant\n",
              "73437    Dramatic, Streetwear, Feminine, Editorial\n",
              "73438    Maximalist, Minimalist, Classic, Feminine\n",
              "73439     Glam, Androgynous, Maximalist, Editorial\n",
              "\n",
              "[73440 rows x 1 columns]"
            ]
          },
          "metadata": {},
          "execution_count": 27
        }
      ],
      "metadata": {}
    },
    {
      "cell_type": "code",
      "execution_count": 28,
      "source": [
        "from numpy.ma.core import default_fill_value\n",
        "# Probability dictionary\n",
        "p = {}\n",
        "style_types = [\"Classic\", \"Elegant\", \"Dramatic\", \"Feminine\", \"Sexy\", \"Masculine\", \n",
        "               \"Romantic\", \"Casual\", \"Streetwear\", \"Glam\", \"Minimalist\", \"Vintage\", \n",
        "               \"Boho\", \"Editorial\", \"Androgynous\", \"Edgy\", \"Preppy\", \"Maximalist\"]\n",
        "\n",
        "p['style'] = [0.11, 0.10, 0.07, 0.13, 0.04, 0.06,\n",
        "              0.06, 0.04, 0.01, 0.01, 0.10, 0.03,\n",
        "              0.03, 0.07, 0.02, 0.04, 0.01, 0.07]\n",
        "\n",
        "# Age (generating random numbers based on half normal distribution)\n",
        "age = halfnorm.rvs(loc=18,scale=8, size=df.shape[0]).astype(int)\n",
        "# gender = pd.DataFrame(columns=[\"Gender\"])\n",
        "gender = []\n",
        "for i in range(df.shape[0]):\n",
        "    # Range of numbers to represent different labels in each category\n",
        "    number = random.randint(0, 2)\n",
        "    if number == 1:\n",
        "      gender.append(\"Female\")\n",
        "    elif number == 2:\n",
        "      gender.append(\"Non-Binary\")\n",
        "    else:\n",
        "      gender.append(\"Male\")\n",
        "# gender = pd.DataFrame(gender, columns=[\"Gender\"])\n",
        "rate = halfnorm.rvs(loc=20,scale=50, size=df.shape[0]).astype(int)"
      ],
      "outputs": [],
      "metadata": {
        "id": "rygdKYHAOlAj"
      }
    },
    {
      "cell_type": "code",
      "execution_count": 29,
      "source": [
        "df"
      ],
      "outputs": [
        {
          "output_type": "execute_result",
          "data": {
            "text/html": [
              "<div>\n",
              "<style scoped>\n",
              "    .dataframe tbody tr th:only-of-type {\n",
              "        vertical-align: middle;\n",
              "    }\n",
              "\n",
              "    .dataframe tbody tr th {\n",
              "        vertical-align: top;\n",
              "    }\n",
              "\n",
              "    .dataframe thead th {\n",
              "        text-align: right;\n",
              "    }\n",
              "</style>\n",
              "<table border=\"1\" class=\"dataframe\">\n",
              "  <thead>\n",
              "    <tr style=\"text-align: right;\">\n",
              "      <th></th>\n",
              "      <th>Profiles</th>\n",
              "    </tr>\n",
              "  </thead>\n",
              "  <tbody>\n",
              "    <tr>\n",
              "      <th>0</th>\n",
              "      <td>Masculine, Casual, Preppy, Glam</td>\n",
              "    </tr>\n",
              "    <tr>\n",
              "      <th>1</th>\n",
              "      <td>Masculine, Glam, Vintage, Preppy</td>\n",
              "    </tr>\n",
              "    <tr>\n",
              "      <th>2</th>\n",
              "      <td>Sexy, Feminine, Edgy, Editorial</td>\n",
              "    </tr>\n",
              "    <tr>\n",
              "      <th>3</th>\n",
              "      <td>Classic, Editorial, Androgynous, Feminine</td>\n",
              "    </tr>\n",
              "    <tr>\n",
              "      <th>4</th>\n",
              "      <td>Maximalist, Androgynous, Elegant, Masculine</td>\n",
              "    </tr>\n",
              "    <tr>\n",
              "      <th>...</th>\n",
              "      <td>...</td>\n",
              "    </tr>\n",
              "    <tr>\n",
              "      <th>73435</th>\n",
              "      <td>Preppy, Casual, Romantic, Editorial</td>\n",
              "    </tr>\n",
              "    <tr>\n",
              "      <th>73436</th>\n",
              "      <td>Editorial, Maximalist, Edgy, Elegant</td>\n",
              "    </tr>\n",
              "    <tr>\n",
              "      <th>73437</th>\n",
              "      <td>Dramatic, Streetwear, Feminine, Editorial</td>\n",
              "    </tr>\n",
              "    <tr>\n",
              "      <th>73438</th>\n",
              "      <td>Maximalist, Minimalist, Classic, Feminine</td>\n",
              "    </tr>\n",
              "    <tr>\n",
              "      <th>73439</th>\n",
              "      <td>Glam, Androgynous, Maximalist, Editorial</td>\n",
              "    </tr>\n",
              "  </tbody>\n",
              "</table>\n",
              "<p>73440 rows × 1 columns</p>\n",
              "</div>"
            ],
            "text/plain": [
              "                                          Profiles\n",
              "0                  Masculine, Casual, Preppy, Glam\n",
              "1                 Masculine, Glam, Vintage, Preppy\n",
              "2                  Sexy, Feminine, Edgy, Editorial\n",
              "3        Classic, Editorial, Androgynous, Feminine\n",
              "4      Maximalist, Androgynous, Elegant, Masculine\n",
              "...                                            ...\n",
              "73435          Preppy, Casual, Romantic, Editorial\n",
              "73436         Editorial, Maximalist, Edgy, Elegant\n",
              "73437    Dramatic, Streetwear, Feminine, Editorial\n",
              "73438    Maximalist, Minimalist, Classic, Feminine\n",
              "73439     Glam, Androgynous, Maximalist, Editorial\n",
              "\n",
              "[73440 rows x 1 columns]"
            ]
          },
          "metadata": {},
          "execution_count": 29
        }
      ],
      "metadata": {
        "colab": {
          "base_uri": "https://localhost:8080/",
          "height": 423
        },
        "id": "lsW3RHQyRTws",
        "outputId": "70a35978-a11a-4dfc-be8f-7326cd979447"
      }
    },
    {
      "cell_type": "code",
      "execution_count": 30,
      "source": [
        "# final_categories = [style_types, age, gender, rate]\n",
        "final_categories = [style_types, age, rate]\n",
        "# names = [\"Style\", \"Age\", \"Gender\", \"Rate\"]\n",
        "names = [\"Style\", \"Age\", \"Rate\"]\n",
        "combined = dict(zip(names, final_categories))"
      ],
      "outputs": [],
      "metadata": {
        "id": "GycMyB5ETQiA"
      }
    },
    {
      "cell_type": "markdown",
      "source": [
        "### Make random values for every category"
      ],
      "metadata": {
        "id": "ZS8SELXBTmGP"
      }
    },
    {
      "cell_type": "code",
      "execution_count": 31,
      "source": [
        "# Looping through and assigning random values\n",
        "for name, categories in combined.items():\n",
        "    if name == 'Age' or name == 'Rate':\n",
        "        # Generating random ages based on a normal distribution\n",
        "        df[name] = categories\n",
        "        \n",
        "    else:\n",
        "        # Picking 3 from the list \n",
        "        try:\n",
        "            df[name] = list(np.random.choice(categories, size=(df.shape[0],1,4), p=p[name]))\n",
        "        except:\n",
        "            df[name] = list(np.random.choice(categories, size=(df.shape[0],1,4)))\n",
        "        \n",
        "        df[name] = df[name].apply(lambda x: list(set(x[0].tolist())))\n",
        "        "
      ],
      "outputs": [
        {
          "output_type": "stream",
          "name": "stderr",
          "text": [
            "/var/folders/jt/9fgtl63s7gv_96_wct99jv2c0000gn/T/ipykernel_66814/133301745.py:12: SettingWithCopyWarning: \n",
            "A value is trying to be set on a copy of a slice from a DataFrame.\n",
            "Try using .loc[row_indexer,col_indexer] = value instead\n",
            "\n",
            "See the caveats in the documentation: https://pandas.pydata.org/pandas-docs/stable/user_guide/indexing.html#returning-a-view-versus-a-copy\n",
            "  df[name] = list(np.random.choice(categories, size=(df.shape[0],1,4)))\n",
            "/var/folders/jt/9fgtl63s7gv_96_wct99jv2c0000gn/T/ipykernel_66814/133301745.py:14: SettingWithCopyWarning: \n",
            "A value is trying to be set on a copy of a slice from a DataFrame.\n",
            "Try using .loc[row_indexer,col_indexer] = value instead\n",
            "\n",
            "See the caveats in the documentation: https://pandas.pydata.org/pandas-docs/stable/user_guide/indexing.html#returning-a-view-versus-a-copy\n",
            "  df[name] = df[name].apply(lambda x: list(set(x[0].tolist())))\n",
            "/var/folders/jt/9fgtl63s7gv_96_wct99jv2c0000gn/T/ipykernel_66814/133301745.py:5: SettingWithCopyWarning: \n",
            "A value is trying to be set on a copy of a slice from a DataFrame.\n",
            "Try using .loc[row_indexer,col_indexer] = value instead\n",
            "\n",
            "See the caveats in the documentation: https://pandas.pydata.org/pandas-docs/stable/user_guide/indexing.html#returning-a-view-versus-a-copy\n",
            "  df[name] = categories\n"
          ]
        }
      ],
      "metadata": {
        "id": "o8e5DtXpTpxg"
      }
    },
    {
      "cell_type": "code",
      "execution_count": 32,
      "source": [
        "df"
      ],
      "outputs": [
        {
          "output_type": "execute_result",
          "data": {
            "text/html": [
              "<div>\n",
              "<style scoped>\n",
              "    .dataframe tbody tr th:only-of-type {\n",
              "        vertical-align: middle;\n",
              "    }\n",
              "\n",
              "    .dataframe tbody tr th {\n",
              "        vertical-align: top;\n",
              "    }\n",
              "\n",
              "    .dataframe thead th {\n",
              "        text-align: right;\n",
              "    }\n",
              "</style>\n",
              "<table border=\"1\" class=\"dataframe\">\n",
              "  <thead>\n",
              "    <tr style=\"text-align: right;\">\n",
              "      <th></th>\n",
              "      <th>Profiles</th>\n",
              "      <th>Style</th>\n",
              "      <th>Age</th>\n",
              "      <th>Rate</th>\n",
              "    </tr>\n",
              "  </thead>\n",
              "  <tbody>\n",
              "    <tr>\n",
              "      <th>0</th>\n",
              "      <td>Masculine, Casual, Preppy, Glam</td>\n",
              "      <td>[Dramatic, Editorial, Edgy, Masculine]</td>\n",
              "      <td>27</td>\n",
              "      <td>30</td>\n",
              "    </tr>\n",
              "    <tr>\n",
              "      <th>1</th>\n",
              "      <td>Masculine, Glam, Vintage, Preppy</td>\n",
              "      <td>[Minimalist, Romantic, Androgynous]</td>\n",
              "      <td>27</td>\n",
              "      <td>82</td>\n",
              "    </tr>\n",
              "    <tr>\n",
              "      <th>2</th>\n",
              "      <td>Sexy, Feminine, Edgy, Editorial</td>\n",
              "      <td>[Classic, Elegant, Editorial]</td>\n",
              "      <td>25</td>\n",
              "      <td>27</td>\n",
              "    </tr>\n",
              "    <tr>\n",
              "      <th>3</th>\n",
              "      <td>Classic, Editorial, Androgynous, Feminine</td>\n",
              "      <td>[Classic, Romantic, Editorial, Vintage]</td>\n",
              "      <td>24</td>\n",
              "      <td>73</td>\n",
              "    </tr>\n",
              "    <tr>\n",
              "      <th>4</th>\n",
              "      <td>Maximalist, Androgynous, Elegant, Masculine</td>\n",
              "      <td>[Glam, Classic, Androgynous]</td>\n",
              "      <td>21</td>\n",
              "      <td>47</td>\n",
              "    </tr>\n",
              "    <tr>\n",
              "      <th>...</th>\n",
              "      <td>...</td>\n",
              "      <td>...</td>\n",
              "      <td>...</td>\n",
              "      <td>...</td>\n",
              "    </tr>\n",
              "    <tr>\n",
              "      <th>73435</th>\n",
              "      <td>Preppy, Casual, Romantic, Editorial</td>\n",
              "      <td>[Glam, Vintage, Edgy, Androgynous]</td>\n",
              "      <td>22</td>\n",
              "      <td>83</td>\n",
              "    </tr>\n",
              "    <tr>\n",
              "      <th>73436</th>\n",
              "      <td>Editorial, Maximalist, Edgy, Elegant</td>\n",
              "      <td>[Casual, Glam, Boho, Elegant]</td>\n",
              "      <td>25</td>\n",
              "      <td>21</td>\n",
              "    </tr>\n",
              "    <tr>\n",
              "      <th>73437</th>\n",
              "      <td>Dramatic, Streetwear, Feminine, Editorial</td>\n",
              "      <td>[Preppy, Elegant, Sexy]</td>\n",
              "      <td>19</td>\n",
              "      <td>82</td>\n",
              "    </tr>\n",
              "    <tr>\n",
              "      <th>73438</th>\n",
              "      <td>Maximalist, Minimalist, Classic, Feminine</td>\n",
              "      <td>[Classic, Edgy, Androgynous]</td>\n",
              "      <td>38</td>\n",
              "      <td>91</td>\n",
              "    </tr>\n",
              "    <tr>\n",
              "      <th>73439</th>\n",
              "      <td>Glam, Androgynous, Maximalist, Editorial</td>\n",
              "      <td>[Vintage, Editorial, Feminine]</td>\n",
              "      <td>24</td>\n",
              "      <td>54</td>\n",
              "    </tr>\n",
              "  </tbody>\n",
              "</table>\n",
              "<p>73440 rows × 4 columns</p>\n",
              "</div>"
            ],
            "text/plain": [
              "                                          Profiles  \\\n",
              "0                  Masculine, Casual, Preppy, Glam   \n",
              "1                 Masculine, Glam, Vintage, Preppy   \n",
              "2                  Sexy, Feminine, Edgy, Editorial   \n",
              "3        Classic, Editorial, Androgynous, Feminine   \n",
              "4      Maximalist, Androgynous, Elegant, Masculine   \n",
              "...                                            ...   \n",
              "73435          Preppy, Casual, Romantic, Editorial   \n",
              "73436         Editorial, Maximalist, Edgy, Elegant   \n",
              "73437    Dramatic, Streetwear, Feminine, Editorial   \n",
              "73438    Maximalist, Minimalist, Classic, Feminine   \n",
              "73439     Glam, Androgynous, Maximalist, Editorial   \n",
              "\n",
              "                                         Style  Age  Rate  \n",
              "0       [Dramatic, Editorial, Edgy, Masculine]   27    30  \n",
              "1          [Minimalist, Romantic, Androgynous]   27    82  \n",
              "2                [Classic, Elegant, Editorial]   25    27  \n",
              "3      [Classic, Romantic, Editorial, Vintage]   24    73  \n",
              "4                 [Glam, Classic, Androgynous]   21    47  \n",
              "...                                        ...  ...   ...  \n",
              "73435       [Glam, Vintage, Edgy, Androgynous]   22    83  \n",
              "73436            [Casual, Glam, Boho, Elegant]   25    21  \n",
              "73437                  [Preppy, Elegant, Sexy]   19    82  \n",
              "73438             [Classic, Edgy, Androgynous]   38    91  \n",
              "73439           [Vintage, Editorial, Feminine]   24    54  \n",
              "\n",
              "[73440 rows x 4 columns]"
            ]
          },
          "metadata": {},
          "execution_count": 32
        }
      ],
      "metadata": {
        "colab": {
          "base_uri": "https://localhost:8080/",
          "height": 423
        },
        "id": "G7mW4BKhWbJT",
        "outputId": "9083601d-fba9-4e18-dce8-d325d5dde17d"
      }
    },
    {
      "cell_type": "code",
      "execution_count": 33,
      "source": [
        "mapping= pd.DataFrame(columns=['id', 'index'])"
      ],
      "outputs": [],
      "metadata": {}
    },
    {
      "cell_type": "code",
      "execution_count": 34,
      "source": [
        "mapping"
      ],
      "outputs": [
        {
          "output_type": "execute_result",
          "data": {
            "text/html": [
              "<div>\n",
              "<style scoped>\n",
              "    .dataframe tbody tr th:only-of-type {\n",
              "        vertical-align: middle;\n",
              "    }\n",
              "\n",
              "    .dataframe tbody tr th {\n",
              "        vertical-align: top;\n",
              "    }\n",
              "\n",
              "    .dataframe thead th {\n",
              "        text-align: right;\n",
              "    }\n",
              "</style>\n",
              "<table border=\"1\" class=\"dataframe\">\n",
              "  <thead>\n",
              "    <tr style=\"text-align: right;\">\n",
              "      <th></th>\n",
              "      <th>id</th>\n",
              "      <th>index</th>\n",
              "    </tr>\n",
              "  </thead>\n",
              "  <tbody>\n",
              "  </tbody>\n",
              "</table>\n",
              "</div>"
            ],
            "text/plain": [
              "Empty DataFrame\n",
              "Columns: [id, index]\n",
              "Index: []"
            ]
          },
          "metadata": {},
          "execution_count": 34
        }
      ],
      "metadata": {}
    },
    {
      "cell_type": "code",
      "execution_count": 35,
      "source": [
        "# values from mongo\n",
        "from mongo_db_integration import get_stylists\n",
        "from statistics import median\n",
        "\n",
        "information = get_stylists()\n",
        "age = 0\n",
        "count = -1\n",
        "# print(information)\n",
        "for stylist in information:\n",
        "    new_mapping = pd.DataFrame(columns=mapping.columns, index=[count+1])\n",
        "    count += 1\n",
        "    new_profile = pd.DataFrame(columns=df.columns, index=[df.index[-1]+1])\n",
        "    interests = stylist['interests'] \n",
        "    rate = stylist['rate']\n",
        "    _id = stylist['id']\n",
        "    new_mapping['id'] = _id\n",
        "    new_mapping['index'] = df.index[-1]+1 \n",
        "    if not interests or not rate:\n",
        "        continue\n",
        "    for interest in interests:\n",
        "        if interest[0].isnumeric():\n",
        "            val = interest[:-7]\n",
        "            val = val.split('-')\n",
        "            val = list(map(int, val))\n",
        "            age = round(median(val))\n",
        "            interests.remove(interest)\n",
        "    temp = ', '.join([str(interest) for interest in interests])\n",
        "    new_profile['Profiles'] = temp\n",
        "    new_profile['Rate'] = rate\n",
        "    new_profile['Age'] = age\n",
        "    style_temp = temp.replace(',', '')\n",
        "    new_profile['Style'] = style_temp\n",
        "    # print(val)\n",
        "    df = pd.concat([df, new_profile])\n",
        "    # print(new_profile['Style'])\n",
        "    mapping = pd.concat([mapping, new_mapping])\n",
        "\n",
        "    \n"
      ],
      "outputs": [
        {
          "output_type": "stream",
          "name": "stdout",
          "text": [
            "[{'interests': [], 'rate': 29, 'id': 'ARkFdcCOngSf8FBg2j15VQK4fas1'}, {'interests': ['Feminine', 'Classic'], 'rate': 25, 'id': 'XZ9paLnfzrgtT21uLsuhFlveCwY2'}, {'interests': ['funky', '18-29 groups', 'mature', 'nice'], 'rate': 25, 'id': '2YbBnz45JfecTzaO5TbU66WyDB33'}, {'interests': ['less than 18', '$25 - $49', 'Casual/Everyday', 'nice'], 'rate': '12', 'id': 'LwGbmdIvbiWGJuAkaFNQUhGL8s03'}]\n"
          ]
        }
      ],
      "metadata": {}
    },
    {
      "cell_type": "code",
      "execution_count": 36,
      "source": [
        "mapping"
      ],
      "outputs": [
        {
          "output_type": "execute_result",
          "data": {
            "text/html": [
              "<div>\n",
              "<style scoped>\n",
              "    .dataframe tbody tr th:only-of-type {\n",
              "        vertical-align: middle;\n",
              "    }\n",
              "\n",
              "    .dataframe tbody tr th {\n",
              "        vertical-align: top;\n",
              "    }\n",
              "\n",
              "    .dataframe thead th {\n",
              "        text-align: right;\n",
              "    }\n",
              "</style>\n",
              "<table border=\"1\" class=\"dataframe\">\n",
              "  <thead>\n",
              "    <tr style=\"text-align: right;\">\n",
              "      <th></th>\n",
              "      <th>id</th>\n",
              "      <th>index</th>\n",
              "    </tr>\n",
              "  </thead>\n",
              "  <tbody>\n",
              "    <tr>\n",
              "      <th>1</th>\n",
              "      <td>XZ9paLnfzrgtT21uLsuhFlveCwY2</td>\n",
              "      <td>73440</td>\n",
              "    </tr>\n",
              "    <tr>\n",
              "      <th>2</th>\n",
              "      <td>2YbBnz45JfecTzaO5TbU66WyDB33</td>\n",
              "      <td>73441</td>\n",
              "    </tr>\n",
              "    <tr>\n",
              "      <th>3</th>\n",
              "      <td>LwGbmdIvbiWGJuAkaFNQUhGL8s03</td>\n",
              "      <td>73442</td>\n",
              "    </tr>\n",
              "  </tbody>\n",
              "</table>\n",
              "</div>"
            ],
            "text/plain": [
              "                             id  index\n",
              "1  XZ9paLnfzrgtT21uLsuhFlveCwY2  73440\n",
              "2  2YbBnz45JfecTzaO5TbU66WyDB33  73441\n",
              "3  LwGbmdIvbiWGJuAkaFNQUhGL8s03  73442"
            ]
          },
          "metadata": {},
          "execution_count": 36
        }
      ],
      "metadata": {}
    },
    {
      "cell_type": "code",
      "execution_count": 38,
      "source": [
        "with open(\"refined_profiles.pkl\",'wb') as fp:\n",
        "    pickle.dump(df, fp)\n",
        "\n",
        "with open(\"mapping.pkl\", \"wb\") as fp:\n",
        "    pickle.dump(mapping, fp)"
      ],
      "outputs": [],
      "metadata": {
        "id": "7dQL3qmhWwaG"
      }
    }
  ]
}