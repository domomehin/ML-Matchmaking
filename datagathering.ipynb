{
  "cells": [
    {
      "cell_type": "code",
      "execution_count": 2,
      "metadata": {
        "id": "3D-TZakc979G"
      },
      "outputs": [],
      "source": [
        "import requests\n",
        "import pandas as pd\n",
        "import time\n",
        "import random\n",
        "import re\n",
        "import numpy as np\n",
        "import _pickle as pickle\n",
        "from tqdm.notebook import tqdm\n",
        "from bs4 import BeautifulSoup as bs\n",
        "from scipy.stats import halfnorm"
      ]
    },
    {
      "cell_type": "code",
      "execution_count": 4,
      "metadata": {
        "id": "Co6Wc603C1Wx"
      },
      "outputs": [],
      "source": [
        "from itertools import permutations\n",
        " \n",
        "# Get all permutations of length 4\n",
        "categories = [\"Style\"]\n",
        "perm = permutations([\"Classic\", \"Elegant\", \"Dramatic\", \"Feminine\", \"Sexy\", \"Masculine\", \"Romantic\", \"Casual\", \"Streetwear\", \"Glam\", \"Minimalist\", \"Vintage\", \"Boho\", \"Editorial\", \"Androgynous\", \"Edgy\", \"Preppy\", \"Maximalist\"], 4)\n",
        "styles = []\n",
        "# Print the obtained permutations\n",
        "for i in list(perm):\n",
        "    styles.append(', '.join(i))\n",
        "# styles = np.array(styles)\n",
        "# Creating a DF from the style permutations\n",
        "random.shuffle(styles)\n",
        "styles = pd.DataFrame(styles, columns=[\"Profiles\"])"
      ]
    },
    {
      "cell_type": "code",
      "execution_count": 5,
      "metadata": {
        "colab": {
          "base_uri": "https://localhost:8080/",
          "height": 423
        },
        "id": "qLJ9MhMIEmNV",
        "outputId": "cf2e5c82-dc55-4ab4-db37-cfe8815aa204"
      },
      "outputs": [
        {
          "data": {
            "text/html": [
              "<div>\n",
              "<style scoped>\n",
              "    .dataframe tbody tr th:only-of-type {\n",
              "        vertical-align: middle;\n",
              "    }\n",
              "\n",
              "    .dataframe tbody tr th {\n",
              "        vertical-align: top;\n",
              "    }\n",
              "\n",
              "    .dataframe thead th {\n",
              "        text-align: right;\n",
              "    }\n",
              "</style>\n",
              "<table border=\"1\" class=\"dataframe\">\n",
              "  <thead>\n",
              "    <tr style=\"text-align: right;\">\n",
              "      <th></th>\n",
              "      <th>Profiles</th>\n",
              "    </tr>\n",
              "  </thead>\n",
              "  <tbody>\n",
              "    <tr>\n",
              "      <th>0</th>\n",
              "      <td>Masculine, Casual, Preppy, Glam</td>\n",
              "    </tr>\n",
              "    <tr>\n",
              "      <th>1</th>\n",
              "      <td>Masculine, Glam, Vintage, Preppy</td>\n",
              "    </tr>\n",
              "    <tr>\n",
              "      <th>2</th>\n",
              "      <td>Sexy, Feminine, Edgy, Editorial</td>\n",
              "    </tr>\n",
              "    <tr>\n",
              "      <th>3</th>\n",
              "      <td>Classic, Editorial, Androgynous, Feminine</td>\n",
              "    </tr>\n",
              "    <tr>\n",
              "      <th>4</th>\n",
              "      <td>Maximalist, Androgynous, Elegant, Masculine</td>\n",
              "    </tr>\n",
              "    <tr>\n",
              "      <th>...</th>\n",
              "      <td>...</td>\n",
              "    </tr>\n",
              "    <tr>\n",
              "      <th>73435</th>\n",
              "      <td>Preppy, Casual, Romantic, Editorial</td>\n",
              "    </tr>\n",
              "    <tr>\n",
              "      <th>73436</th>\n",
              "      <td>Editorial, Maximalist, Edgy, Elegant</td>\n",
              "    </tr>\n",
              "    <tr>\n",
              "      <th>73437</th>\n",
              "      <td>Dramatic, Streetwear, Feminine, Editorial</td>\n",
              "    </tr>\n",
              "    <tr>\n",
              "      <th>73438</th>\n",
              "      <td>Maximalist, Minimalist, Classic, Feminine</td>\n",
              "    </tr>\n",
              "    <tr>\n",
              "      <th>73439</th>\n",
              "      <td>Glam, Androgynous, Maximalist, Editorial</td>\n",
              "    </tr>\n",
              "  </tbody>\n",
              "</table>\n",
              "<p>73440 rows × 1 columns</p>\n",
              "</div>"
            ],
            "text/plain": [
              "                                          Profiles\n",
              "0                  Masculine, Casual, Preppy, Glam\n",
              "1                 Masculine, Glam, Vintage, Preppy\n",
              "2                  Sexy, Feminine, Edgy, Editorial\n",
              "3        Classic, Editorial, Androgynous, Feminine\n",
              "4      Maximalist, Androgynous, Elegant, Masculine\n",
              "...                                            ...\n",
              "73435          Preppy, Casual, Romantic, Editorial\n",
              "73436         Editorial, Maximalist, Edgy, Elegant\n",
              "73437    Dramatic, Streetwear, Feminine, Editorial\n",
              "73438    Maximalist, Minimalist, Classic, Feminine\n",
              "73439     Glam, Androgynous, Maximalist, Editorial\n",
              "\n",
              "[73440 rows x 1 columns]"
            ]
          },
          "execution_count": 5,
          "metadata": {},
          "output_type": "execute_result"
        }
      ],
      "source": [
        "styles"
      ]
    },
    {
      "cell_type": "code",
      "execution_count": 6,
      "metadata": {
        "colab": {
          "base_uri": "https://localhost:8080/"
        },
        "id": "vW31HTwJDEmF",
        "outputId": "c470f8ae-1c58-430f-e82b-67e59048aa12"
      },
      "outputs": [
        {
          "name": "stdout",
          "output_type": "stream",
          "text": [
            "Empty DataFrame\n",
            "Columns: [Style]\n",
            "Index: []\n"
          ]
        }
      ],
      "source": [
        "# Creating a DF of the style categories\n",
        "style_df = pd.DataFrame(columns=categories)\n",
        "print(style_df)\n",
        "# Filling in Data\n",
        "for i in style_df.columns:\n",
        "    \n",
        "    # Range of numbers to represent different labels in each category\n",
        "    style_df[i] = np.random.randint(0,18, styles.shape[0])\n",
        "    \n",
        "    # Logic: The numbers represent a specific choice within the categories\n",
        "    # So your number 1 preferred category will have a one and the least will have 18 etc."
      ]
    },
    {
      "cell_type": "code",
      "execution_count": 7,
      "metadata": {
        "colab": {
          "base_uri": "https://localhost:8080/",
          "height": 423
        },
        "id": "oL0WJEuoFsuh",
        "outputId": "c3084df5-080b-4a0a-e694-f4c4731ebdd2"
      },
      "outputs": [
        {
          "data": {
            "text/html": [
              "<div>\n",
              "<style scoped>\n",
              "    .dataframe tbody tr th:only-of-type {\n",
              "        vertical-align: middle;\n",
              "    }\n",
              "\n",
              "    .dataframe tbody tr th {\n",
              "        vertical-align: top;\n",
              "    }\n",
              "\n",
              "    .dataframe thead th {\n",
              "        text-align: right;\n",
              "    }\n",
              "</style>\n",
              "<table border=\"1\" class=\"dataframe\">\n",
              "  <thead>\n",
              "    <tr style=\"text-align: right;\">\n",
              "      <th></th>\n",
              "      <th>Style</th>\n",
              "    </tr>\n",
              "  </thead>\n",
              "  <tbody>\n",
              "    <tr>\n",
              "      <th>0</th>\n",
              "      <td>15</td>\n",
              "    </tr>\n",
              "    <tr>\n",
              "      <th>1</th>\n",
              "      <td>12</td>\n",
              "    </tr>\n",
              "    <tr>\n",
              "      <th>2</th>\n",
              "      <td>8</td>\n",
              "    </tr>\n",
              "    <tr>\n",
              "      <th>3</th>\n",
              "      <td>9</td>\n",
              "    </tr>\n",
              "    <tr>\n",
              "      <th>4</th>\n",
              "      <td>2</td>\n",
              "    </tr>\n",
              "    <tr>\n",
              "      <th>...</th>\n",
              "      <td>...</td>\n",
              "    </tr>\n",
              "    <tr>\n",
              "      <th>73435</th>\n",
              "      <td>6</td>\n",
              "    </tr>\n",
              "    <tr>\n",
              "      <th>73436</th>\n",
              "      <td>9</td>\n",
              "    </tr>\n",
              "    <tr>\n",
              "      <th>73437</th>\n",
              "      <td>2</td>\n",
              "    </tr>\n",
              "    <tr>\n",
              "      <th>73438</th>\n",
              "      <td>16</td>\n",
              "    </tr>\n",
              "    <tr>\n",
              "      <th>73439</th>\n",
              "      <td>7</td>\n",
              "    </tr>\n",
              "  </tbody>\n",
              "</table>\n",
              "<p>73440 rows × 1 columns</p>\n",
              "</div>"
            ],
            "text/plain": [
              "       Style\n",
              "0         15\n",
              "1         12\n",
              "2          8\n",
              "3          9\n",
              "4          2\n",
              "...      ...\n",
              "73435      6\n",
              "73436      9\n",
              "73437      2\n",
              "73438     16\n",
              "73439      7\n",
              "\n",
              "[73440 rows x 1 columns]"
            ]
          },
          "execution_count": 7,
          "metadata": {},
          "output_type": "execute_result"
        }
      ],
      "source": [
        "style_df"
      ]
    },
    {
      "cell_type": "code",
      "execution_count": 8,
      "metadata": {
        "colab": {
          "base_uri": "https://localhost:8080/",
          "height": 423
        },
        "id": "c77YaA27GV7a",
        "outputId": "f4a231f0-7849-4d33-fb03-f699c13cd3d9"
      },
      "outputs": [
        {
          "data": {
            "text/html": [
              "<div>\n",
              "<style scoped>\n",
              "    .dataframe tbody tr th:only-of-type {\n",
              "        vertical-align: middle;\n",
              "    }\n",
              "\n",
              "    .dataframe tbody tr th {\n",
              "        vertical-align: top;\n",
              "    }\n",
              "\n",
              "    .dataframe thead th {\n",
              "        text-align: right;\n",
              "    }\n",
              "</style>\n",
              "<table border=\"1\" class=\"dataframe\">\n",
              "  <thead>\n",
              "    <tr style=\"text-align: right;\">\n",
              "      <th></th>\n",
              "      <th>Profiles</th>\n",
              "      <th>Style</th>\n",
              "    </tr>\n",
              "  </thead>\n",
              "  <tbody>\n",
              "    <tr>\n",
              "      <th>0</th>\n",
              "      <td>Masculine, Casual, Preppy, Glam</td>\n",
              "      <td>15</td>\n",
              "    </tr>\n",
              "    <tr>\n",
              "      <th>1</th>\n",
              "      <td>Masculine, Glam, Vintage, Preppy</td>\n",
              "      <td>12</td>\n",
              "    </tr>\n",
              "    <tr>\n",
              "      <th>2</th>\n",
              "      <td>Sexy, Feminine, Edgy, Editorial</td>\n",
              "      <td>8</td>\n",
              "    </tr>\n",
              "    <tr>\n",
              "      <th>3</th>\n",
              "      <td>Classic, Editorial, Androgynous, Feminine</td>\n",
              "      <td>9</td>\n",
              "    </tr>\n",
              "    <tr>\n",
              "      <th>4</th>\n",
              "      <td>Maximalist, Androgynous, Elegant, Masculine</td>\n",
              "      <td>2</td>\n",
              "    </tr>\n",
              "    <tr>\n",
              "      <th>...</th>\n",
              "      <td>...</td>\n",
              "      <td>...</td>\n",
              "    </tr>\n",
              "    <tr>\n",
              "      <th>73435</th>\n",
              "      <td>Preppy, Casual, Romantic, Editorial</td>\n",
              "      <td>6</td>\n",
              "    </tr>\n",
              "    <tr>\n",
              "      <th>73436</th>\n",
              "      <td>Editorial, Maximalist, Edgy, Elegant</td>\n",
              "      <td>9</td>\n",
              "    </tr>\n",
              "    <tr>\n",
              "      <th>73437</th>\n",
              "      <td>Dramatic, Streetwear, Feminine, Editorial</td>\n",
              "      <td>2</td>\n",
              "    </tr>\n",
              "    <tr>\n",
              "      <th>73438</th>\n",
              "      <td>Maximalist, Minimalist, Classic, Feminine</td>\n",
              "      <td>16</td>\n",
              "    </tr>\n",
              "    <tr>\n",
              "      <th>73439</th>\n",
              "      <td>Glam, Androgynous, Maximalist, Editorial</td>\n",
              "      <td>7</td>\n",
              "    </tr>\n",
              "  </tbody>\n",
              "</table>\n",
              "<p>73440 rows × 2 columns</p>\n",
              "</div>"
            ],
            "text/plain": [
              "                                          Profiles  Style\n",
              "0                  Masculine, Casual, Preppy, Glam     15\n",
              "1                 Masculine, Glam, Vintage, Preppy     12\n",
              "2                  Sexy, Feminine, Edgy, Editorial      8\n",
              "3        Classic, Editorial, Androgynous, Feminine      9\n",
              "4      Maximalist, Androgynous, Elegant, Masculine      2\n",
              "...                                            ...    ...\n",
              "73435          Preppy, Casual, Romantic, Editorial      6\n",
              "73436         Editorial, Maximalist, Edgy, Elegant      9\n",
              "73437    Dramatic, Streetwear, Feminine, Editorial      2\n",
              "73438    Maximalist, Minimalist, Classic, Feminine     16\n",
              "73439     Glam, Androgynous, Maximalist, Editorial      7\n",
              "\n",
              "[73440 rows x 2 columns]"
            ]
          },
          "execution_count": 8,
          "metadata": {},
          "output_type": "execute_result"
        }
      ],
      "source": [
        "# Joining the two dataframes\n",
        "final_df = styles.join(style_df)\n",
        "final_df"
      ]
    },
    {
      "cell_type": "code",
      "execution_count": 3,
      "metadata": {
        "id": "Oys_JMXZI8uZ"
      },
      "outputs": [
        {
          "ename": "NameError",
          "evalue": "name 'final_df' is not defined",
          "output_type": "error",
          "traceback": [
            "\u001b[0;31m---------------------------------------------------------------------------\u001b[0m",
            "\u001b[0;31mNameError\u001b[0m                                 Traceback (most recent call last)",
            "\u001b[1;32m/Users/dianaomomehin/Desktop/ML-Matchmaking/datagathering.ipynb Cell 7'\u001b[0m in \u001b[0;36m<cell line: 1>\u001b[0;34m()\u001b[0m\n\u001b[1;32m      <a href='vscode-notebook-cell:/Users/dianaomomehin/Desktop/ML-Matchmaking/datagathering.ipynb#ch0000006?line=0'>1</a>\u001b[0m \u001b[39mwith\u001b[39;00m \u001b[39mopen\u001b[39m(\u001b[39m\"\u001b[39m\u001b[39mprofiles.pkl\u001b[39m\u001b[39m\"\u001b[39m, \u001b[39m\"\u001b[39m\u001b[39mwb\u001b[39m\u001b[39m\"\u001b[39m) \u001b[39mas\u001b[39;00m fp:\n\u001b[0;32m----> <a href='vscode-notebook-cell:/Users/dianaomomehin/Desktop/ML-Matchmaking/datagathering.ipynb#ch0000006?line=1'>2</a>\u001b[0m     pickle\u001b[39m.\u001b[39mdump(final_df, fp)\n",
            "\u001b[0;31mNameError\u001b[0m: name 'final_df' is not defined"
          ]
        }
      ],
      "source": [
        "with open(\"profiles.pkl\", \"wb\") as fp:\n",
        "    pickle.dump(final_df, fp)"
      ]
    },
    {
      "cell_type": "code",
      "execution_count": 26,
      "metadata": {
        "id": "K7fLkKbaNGdt"
      },
      "outputs": [],
      "source": [
        "with open(\"profiles.pkl\",'rb') as fp:\n",
        "    df = pickle.load(fp)"
      ]
    },
    {
      "cell_type": "code",
      "execution_count": 7,
      "metadata": {
        "id": "3gmlo7f8Jpei"
      },
      "outputs": [
        {
          "ename": "NameError",
          "evalue": "name 'final_df' is not defined",
          "output_type": "error",
          "traceback": [
            "\u001b[0;31m---------------------------------------------------------------------------\u001b[0m",
            "\u001b[0;31mNameError\u001b[0m                                 Traceback (most recent call last)",
            "\u001b[1;32m/Users/dianaomomehin/Desktop/ML-Matchmaking/datagathering.ipynb Cell 9'\u001b[0m in \u001b[0;36m<cell line: 1>\u001b[0;34m()\u001b[0m\n\u001b[0;32m----> <a href='vscode-notebook-cell:/Users/dianaomomehin/Desktop/ML-Matchmaking/datagathering.ipynb#ch0000008?line=0'>1</a>\u001b[0m final_df\u001b[39m.\u001b[39mto_csv (\u001b[39mr\u001b[39m\u001b[39m'\u001b[39m\u001b[39mprofiles_dataframe.csv\u001b[39m\u001b[39m'\u001b[39m, index \u001b[39m=\u001b[39m \u001b[39mFalse\u001b[39;00m, header\u001b[39m=\u001b[39m\u001b[39mTrue\u001b[39;00m)\n",
            "\u001b[0;31mNameError\u001b[0m: name 'final_df' is not defined"
          ]
        }
      ],
      "source": [
        "final_df.to_csv (r'profiles_dataframe.csv', index = False, header=True)"
      ]
    },
    {
      "cell_type": "code",
      "execution_count": 42,
      "metadata": {
        "id": "bg4olrahNp4s"
      },
      "outputs": [],
      "source": [
        "# Removing the numerical data\n",
        "df = df[['Profiles']]"
      ]
    },
    {
      "cell_type": "code",
      "execution_count": 43,
      "metadata": {},
      "outputs": [
        {
          "data": {
            "text/html": [
              "<div>\n",
              "<style scoped>\n",
              "    .dataframe tbody tr th:only-of-type {\n",
              "        vertical-align: middle;\n",
              "    }\n",
              "\n",
              "    .dataframe tbody tr th {\n",
              "        vertical-align: top;\n",
              "    }\n",
              "\n",
              "    .dataframe thead th {\n",
              "        text-align: right;\n",
              "    }\n",
              "</style>\n",
              "<table border=\"1\" class=\"dataframe\">\n",
              "  <thead>\n",
              "    <tr style=\"text-align: right;\">\n",
              "      <th></th>\n",
              "      <th>Profiles</th>\n",
              "    </tr>\n",
              "  </thead>\n",
              "  <tbody>\n",
              "    <tr>\n",
              "      <th>0</th>\n",
              "      <td>Masculine, Casual, Preppy, Glam</td>\n",
              "    </tr>\n",
              "    <tr>\n",
              "      <th>1</th>\n",
              "      <td>Masculine, Glam, Vintage, Preppy</td>\n",
              "    </tr>\n",
              "    <tr>\n",
              "      <th>2</th>\n",
              "      <td>Sexy, Feminine, Edgy, Editorial</td>\n",
              "    </tr>\n",
              "    <tr>\n",
              "      <th>3</th>\n",
              "      <td>Classic, Editorial, Androgynous, Feminine</td>\n",
              "    </tr>\n",
              "    <tr>\n",
              "      <th>4</th>\n",
              "      <td>Maximalist, Androgynous, Elegant, Masculine</td>\n",
              "    </tr>\n",
              "    <tr>\n",
              "      <th>...</th>\n",
              "      <td>...</td>\n",
              "    </tr>\n",
              "    <tr>\n",
              "      <th>73443</th>\n",
              "      <td>Casual/Everyday, nice</td>\n",
              "    </tr>\n",
              "    <tr>\n",
              "      <th>73444</th>\n",
              "      <td>Casual/Everyday, nice</td>\n",
              "    </tr>\n",
              "    <tr>\n",
              "      <th>73445</th>\n",
              "      <td>Casual/Everyday, nice</td>\n",
              "    </tr>\n",
              "    <tr>\n",
              "      <th>73446</th>\n",
              "      <td>Casual/Everyday, nice</td>\n",
              "    </tr>\n",
              "    <tr>\n",
              "      <th>73447</th>\n",
              "      <td>Casual/Everyday, nice</td>\n",
              "    </tr>\n",
              "  </tbody>\n",
              "</table>\n",
              "<p>73448 rows × 1 columns</p>\n",
              "</div>"
            ],
            "text/plain": [
              "                                          Profiles\n",
              "0                  Masculine, Casual, Preppy, Glam\n",
              "1                 Masculine, Glam, Vintage, Preppy\n",
              "2                  Sexy, Feminine, Edgy, Editorial\n",
              "3        Classic, Editorial, Androgynous, Feminine\n",
              "4      Maximalist, Androgynous, Elegant, Masculine\n",
              "...                                            ...\n",
              "73443                        Casual/Everyday, nice\n",
              "73444                        Casual/Everyday, nice\n",
              "73445                        Casual/Everyday, nice\n",
              "73446                        Casual/Everyday, nice\n",
              "73447                        Casual/Everyday, nice\n",
              "\n",
              "[73448 rows x 1 columns]"
            ]
          },
          "execution_count": 43,
          "metadata": {},
          "output_type": "execute_result"
        }
      ],
      "source": [
        "df"
      ]
    },
    {
      "cell_type": "code",
      "execution_count": 44,
      "metadata": {
        "id": "rygdKYHAOlAj"
      },
      "outputs": [],
      "source": [
        "from numpy.ma.core import default_fill_value\n",
        "# Probability dictionary\n",
        "p = {}\n",
        "style_types = [\"Classic\", \"Elegant\", \"Dramatic\", \"Feminine\", \"Sexy\", \"Masculine\", \n",
        "               \"Romantic\", \"Casual\", \"Streetwear\", \"Glam\", \"Minimalist\", \"Vintage\", \n",
        "               \"Boho\", \"Editorial\", \"Androgynous\", \"Edgy\", \"Preppy\", \"Maximalist\"]\n",
        "\n",
        "p['style'] = [0.11, 0.10, 0.07, 0.13, 0.04, 0.06,\n",
        "              0.06, 0.04, 0.01, 0.01, 0.10, 0.03,\n",
        "              0.03, 0.07, 0.02, 0.04, 0.01, 0.07]\n",
        "\n",
        "# Age (generating random numbers based on half normal distribution)\n",
        "age = halfnorm.rvs(loc=18,scale=8, size=df.shape[0]).astype(int)\n",
        "# gender = pd.DataFrame(columns=[\"Gender\"])\n",
        "gender = []\n",
        "for i in range(df.shape[0]):\n",
        "    # Range of numbers to represent different labels in each category\n",
        "    number = random.randint(0, 2)\n",
        "    if number == 1:\n",
        "      gender.append(\"Female\")\n",
        "    elif number == 2:\n",
        "      gender.append(\"Non-Binary\")\n",
        "    else:\n",
        "      gender.append(\"Male\")\n",
        "# gender = pd.DataFrame(gender, columns=[\"Gender\"])\n",
        "rate = halfnorm.rvs(loc=20,scale=50, size=df.shape[0]).astype(int)"
      ]
    },
    {
      "cell_type": "code",
      "execution_count": 45,
      "metadata": {
        "colab": {
          "base_uri": "https://localhost:8080/",
          "height": 423
        },
        "id": "lsW3RHQyRTws",
        "outputId": "70a35978-a11a-4dfc-be8f-7326cd979447"
      },
      "outputs": [
        {
          "data": {
            "text/html": [
              "<div>\n",
              "<style scoped>\n",
              "    .dataframe tbody tr th:only-of-type {\n",
              "        vertical-align: middle;\n",
              "    }\n",
              "\n",
              "    .dataframe tbody tr th {\n",
              "        vertical-align: top;\n",
              "    }\n",
              "\n",
              "    .dataframe thead th {\n",
              "        text-align: right;\n",
              "    }\n",
              "</style>\n",
              "<table border=\"1\" class=\"dataframe\">\n",
              "  <thead>\n",
              "    <tr style=\"text-align: right;\">\n",
              "      <th></th>\n",
              "      <th>Profiles</th>\n",
              "    </tr>\n",
              "  </thead>\n",
              "  <tbody>\n",
              "    <tr>\n",
              "      <th>0</th>\n",
              "      <td>Masculine, Casual, Preppy, Glam</td>\n",
              "    </tr>\n",
              "    <tr>\n",
              "      <th>1</th>\n",
              "      <td>Masculine, Glam, Vintage, Preppy</td>\n",
              "    </tr>\n",
              "    <tr>\n",
              "      <th>2</th>\n",
              "      <td>Sexy, Feminine, Edgy, Editorial</td>\n",
              "    </tr>\n",
              "    <tr>\n",
              "      <th>3</th>\n",
              "      <td>Classic, Editorial, Androgynous, Feminine</td>\n",
              "    </tr>\n",
              "    <tr>\n",
              "      <th>4</th>\n",
              "      <td>Maximalist, Androgynous, Elegant, Masculine</td>\n",
              "    </tr>\n",
              "    <tr>\n",
              "      <th>...</th>\n",
              "      <td>...</td>\n",
              "    </tr>\n",
              "    <tr>\n",
              "      <th>73443</th>\n",
              "      <td>Casual/Everyday, nice</td>\n",
              "    </tr>\n",
              "    <tr>\n",
              "      <th>73444</th>\n",
              "      <td>Casual/Everyday, nice</td>\n",
              "    </tr>\n",
              "    <tr>\n",
              "      <th>73445</th>\n",
              "      <td>Casual/Everyday, nice</td>\n",
              "    </tr>\n",
              "    <tr>\n",
              "      <th>73446</th>\n",
              "      <td>Casual/Everyday, nice</td>\n",
              "    </tr>\n",
              "    <tr>\n",
              "      <th>73447</th>\n",
              "      <td>Casual/Everyday, nice</td>\n",
              "    </tr>\n",
              "  </tbody>\n",
              "</table>\n",
              "<p>73448 rows × 1 columns</p>\n",
              "</div>"
            ],
            "text/plain": [
              "                                          Profiles\n",
              "0                  Masculine, Casual, Preppy, Glam\n",
              "1                 Masculine, Glam, Vintage, Preppy\n",
              "2                  Sexy, Feminine, Edgy, Editorial\n",
              "3        Classic, Editorial, Androgynous, Feminine\n",
              "4      Maximalist, Androgynous, Elegant, Masculine\n",
              "...                                            ...\n",
              "73443                        Casual/Everyday, nice\n",
              "73444                        Casual/Everyday, nice\n",
              "73445                        Casual/Everyday, nice\n",
              "73446                        Casual/Everyday, nice\n",
              "73447                        Casual/Everyday, nice\n",
              "\n",
              "[73448 rows x 1 columns]"
            ]
          },
          "execution_count": 45,
          "metadata": {},
          "output_type": "execute_result"
        }
      ],
      "source": [
        "df"
      ]
    },
    {
      "cell_type": "code",
      "execution_count": 46,
      "metadata": {
        "id": "GycMyB5ETQiA"
      },
      "outputs": [],
      "source": [
        "# final_categories = [style_types, age, gender, rate]\n",
        "final_categories = [style_types, age, rate]\n",
        "# names = [\"Style\", \"Age\", \"Gender\", \"Rate\"]\n",
        "names = [\"Style\", \"Age\", \"Rate\"]\n",
        "combined = dict(zip(names, final_categories))"
      ]
    },
    {
      "cell_type": "markdown",
      "metadata": {
        "id": "ZS8SELXBTmGP"
      },
      "source": [
        "### Make random values for every category"
      ]
    },
    {
      "cell_type": "code",
      "execution_count": 47,
      "metadata": {
        "id": "o8e5DtXpTpxg"
      },
      "outputs": [
        {
          "name": "stderr",
          "output_type": "stream",
          "text": [
            "/var/folders/jt/9fgtl63s7gv_96_wct99jv2c0000gn/T/ipykernel_90670/133301745.py:12: SettingWithCopyWarning: \n",
            "A value is trying to be set on a copy of a slice from a DataFrame.\n",
            "Try using .loc[row_indexer,col_indexer] = value instead\n",
            "\n",
            "See the caveats in the documentation: https://pandas.pydata.org/pandas-docs/stable/user_guide/indexing.html#returning-a-view-versus-a-copy\n",
            "  df[name] = list(np.random.choice(categories, size=(df.shape[0],1,4)))\n",
            "/var/folders/jt/9fgtl63s7gv_96_wct99jv2c0000gn/T/ipykernel_90670/133301745.py:14: SettingWithCopyWarning: \n",
            "A value is trying to be set on a copy of a slice from a DataFrame.\n",
            "Try using .loc[row_indexer,col_indexer] = value instead\n",
            "\n",
            "See the caveats in the documentation: https://pandas.pydata.org/pandas-docs/stable/user_guide/indexing.html#returning-a-view-versus-a-copy\n",
            "  df[name] = df[name].apply(lambda x: list(set(x[0].tolist())))\n",
            "/var/folders/jt/9fgtl63s7gv_96_wct99jv2c0000gn/T/ipykernel_90670/133301745.py:5: SettingWithCopyWarning: \n",
            "A value is trying to be set on a copy of a slice from a DataFrame.\n",
            "Try using .loc[row_indexer,col_indexer] = value instead\n",
            "\n",
            "See the caveats in the documentation: https://pandas.pydata.org/pandas-docs/stable/user_guide/indexing.html#returning-a-view-versus-a-copy\n",
            "  df[name] = categories\n"
          ]
        }
      ],
      "source": [
        "# Looping through and assigning random values\n",
        "for name, categories in combined.items():\n",
        "    if name == 'Age' or name == 'Rate':\n",
        "        # Generating random ages based on a normal distribution\n",
        "        df[name] = categories\n",
        "        \n",
        "    else:\n",
        "        # Picking 3 from the list \n",
        "        try:\n",
        "            df[name] = list(np.random.choice(categories, size=(df.shape[0],1,4), p=p[name]))\n",
        "        except:\n",
        "            df[name] = list(np.random.choice(categories, size=(df.shape[0],1,4)))\n",
        "        \n",
        "        df[name] = df[name].apply(lambda x: list(set(x[0].tolist())))\n",
        "        "
      ]
    },
    {
      "cell_type": "code",
      "execution_count": 48,
      "metadata": {
        "colab": {
          "base_uri": "https://localhost:8080/",
          "height": 423
        },
        "id": "G7mW4BKhWbJT",
        "outputId": "9083601d-fba9-4e18-dce8-d325d5dde17d"
      },
      "outputs": [
        {
          "data": {
            "text/html": [
              "<div>\n",
              "<style scoped>\n",
              "    .dataframe tbody tr th:only-of-type {\n",
              "        vertical-align: middle;\n",
              "    }\n",
              "\n",
              "    .dataframe tbody tr th {\n",
              "        vertical-align: top;\n",
              "    }\n",
              "\n",
              "    .dataframe thead th {\n",
              "        text-align: right;\n",
              "    }\n",
              "</style>\n",
              "<table border=\"1\" class=\"dataframe\">\n",
              "  <thead>\n",
              "    <tr style=\"text-align: right;\">\n",
              "      <th></th>\n",
              "      <th>Profiles</th>\n",
              "      <th>Style</th>\n",
              "      <th>Age</th>\n",
              "      <th>Rate</th>\n",
              "    </tr>\n",
              "  </thead>\n",
              "  <tbody>\n",
              "    <tr>\n",
              "      <th>0</th>\n",
              "      <td>Masculine, Casual, Preppy, Glam</td>\n",
              "      <td>[Casual, Boho, Glam, Streetwear]</td>\n",
              "      <td>19</td>\n",
              "      <td>116</td>\n",
              "    </tr>\n",
              "    <tr>\n",
              "      <th>1</th>\n",
              "      <td>Masculine, Glam, Vintage, Preppy</td>\n",
              "      <td>[Maximalist, Casual, Streetwear, Edgy]</td>\n",
              "      <td>23</td>\n",
              "      <td>43</td>\n",
              "    </tr>\n",
              "    <tr>\n",
              "      <th>2</th>\n",
              "      <td>Sexy, Feminine, Edgy, Editorial</td>\n",
              "      <td>[Romantic, Androgynous, Sexy]</td>\n",
              "      <td>21</td>\n",
              "      <td>92</td>\n",
              "    </tr>\n",
              "    <tr>\n",
              "      <th>3</th>\n",
              "      <td>Classic, Editorial, Androgynous, Feminine</td>\n",
              "      <td>[Glam, Boho, Minimalist, Sexy]</td>\n",
              "      <td>22</td>\n",
              "      <td>46</td>\n",
              "    </tr>\n",
              "    <tr>\n",
              "      <th>4</th>\n",
              "      <td>Maximalist, Androgynous, Elegant, Masculine</td>\n",
              "      <td>[Masculine, Romantic, Androgynous, Elegant]</td>\n",
              "      <td>20</td>\n",
              "      <td>73</td>\n",
              "    </tr>\n",
              "    <tr>\n",
              "      <th>...</th>\n",
              "      <td>...</td>\n",
              "      <td>...</td>\n",
              "      <td>...</td>\n",
              "      <td>...</td>\n",
              "    </tr>\n",
              "    <tr>\n",
              "      <th>73443</th>\n",
              "      <td>Casual/Everyday, nice</td>\n",
              "      <td>[Classic, Boho, Editorial, Romantic]</td>\n",
              "      <td>29</td>\n",
              "      <td>39</td>\n",
              "    </tr>\n",
              "    <tr>\n",
              "      <th>73444</th>\n",
              "      <td>Casual/Everyday, nice</td>\n",
              "      <td>[Maximalist, Glam, Feminine, Minimalist]</td>\n",
              "      <td>24</td>\n",
              "      <td>126</td>\n",
              "    </tr>\n",
              "    <tr>\n",
              "      <th>73445</th>\n",
              "      <td>Casual/Everyday, nice</td>\n",
              "      <td>[Boho, Minimalist, Streetwear, Elegant]</td>\n",
              "      <td>22</td>\n",
              "      <td>102</td>\n",
              "    </tr>\n",
              "    <tr>\n",
              "      <th>73446</th>\n",
              "      <td>Casual/Everyday, nice</td>\n",
              "      <td>[Classic, Glam, Sexy]</td>\n",
              "      <td>26</td>\n",
              "      <td>27</td>\n",
              "    </tr>\n",
              "    <tr>\n",
              "      <th>73447</th>\n",
              "      <td>Casual/Everyday, nice</td>\n",
              "      <td>[Elegant, Classic, Streetwear, Sexy]</td>\n",
              "      <td>19</td>\n",
              "      <td>22</td>\n",
              "    </tr>\n",
              "  </tbody>\n",
              "</table>\n",
              "<p>73448 rows × 4 columns</p>\n",
              "</div>"
            ],
            "text/plain": [
              "                                          Profiles  \\\n",
              "0                  Masculine, Casual, Preppy, Glam   \n",
              "1                 Masculine, Glam, Vintage, Preppy   \n",
              "2                  Sexy, Feminine, Edgy, Editorial   \n",
              "3        Classic, Editorial, Androgynous, Feminine   \n",
              "4      Maximalist, Androgynous, Elegant, Masculine   \n",
              "...                                            ...   \n",
              "73443                        Casual/Everyday, nice   \n",
              "73444                        Casual/Everyday, nice   \n",
              "73445                        Casual/Everyday, nice   \n",
              "73446                        Casual/Everyday, nice   \n",
              "73447                        Casual/Everyday, nice   \n",
              "\n",
              "                                             Style  Age  Rate  \n",
              "0                 [Casual, Boho, Glam, Streetwear]   19   116  \n",
              "1           [Maximalist, Casual, Streetwear, Edgy]   23    43  \n",
              "2                    [Romantic, Androgynous, Sexy]   21    92  \n",
              "3                   [Glam, Boho, Minimalist, Sexy]   22    46  \n",
              "4      [Masculine, Romantic, Androgynous, Elegant]   20    73  \n",
              "...                                            ...  ...   ...  \n",
              "73443         [Classic, Boho, Editorial, Romantic]   29    39  \n",
              "73444     [Maximalist, Glam, Feminine, Minimalist]   24   126  \n",
              "73445      [Boho, Minimalist, Streetwear, Elegant]   22   102  \n",
              "73446                        [Classic, Glam, Sexy]   26    27  \n",
              "73447         [Elegant, Classic, Streetwear, Sexy]   19    22  \n",
              "\n",
              "[73448 rows x 4 columns]"
            ]
          },
          "execution_count": 48,
          "metadata": {},
          "output_type": "execute_result"
        }
      ],
      "source": [
        "df"
      ]
    },
    {
      "cell_type": "code",
      "execution_count": 49,
      "metadata": {},
      "outputs": [],
      "source": [
        "mapping= pd.DataFrame(columns=['id', 'index'])"
      ]
    },
    {
      "cell_type": "code",
      "execution_count": 50,
      "metadata": {},
      "outputs": [
        {
          "data": {
            "text/html": [
              "<div>\n",
              "<style scoped>\n",
              "    .dataframe tbody tr th:only-of-type {\n",
              "        vertical-align: middle;\n",
              "    }\n",
              "\n",
              "    .dataframe tbody tr th {\n",
              "        vertical-align: top;\n",
              "    }\n",
              "\n",
              "    .dataframe thead th {\n",
              "        text-align: right;\n",
              "    }\n",
              "</style>\n",
              "<table border=\"1\" class=\"dataframe\">\n",
              "  <thead>\n",
              "    <tr style=\"text-align: right;\">\n",
              "      <th></th>\n",
              "      <th>id</th>\n",
              "      <th>index</th>\n",
              "    </tr>\n",
              "  </thead>\n",
              "  <tbody>\n",
              "  </tbody>\n",
              "</table>\n",
              "</div>"
            ],
            "text/plain": [
              "Empty DataFrame\n",
              "Columns: [id, index]\n",
              "Index: []"
            ]
          },
          "execution_count": 50,
          "metadata": {},
          "output_type": "execute_result"
        }
      ],
      "source": [
        "mapping"
      ]
    },
    {
      "cell_type": "code",
      "execution_count": 55,
      "metadata": {},
      "outputs": [
        {
          "name": "stdout",
          "output_type": "stream",
          "text": [
            "[{'interests': ['less than 18', '$25 - $49', 'Casual/Everyday', 'nice'], 'rate': '24', 'id': 'DeWb44CDI2dUKzqTogwJOO5kbPy2'}, {'interests': ['less than 18', '$25 - $49', 'Casual/Everyday', 'nice'], 'rate': '30', 'id': 'RKXTWv5wclQZL3fvbDOueH05Cp62'}, {'interests': ['less than 18', '$25 - $49', 'Casual/Everyday', 'nice'], 'rate': '26', 'id': 'R7FN0mUijwgzwyaRSZPEsecwVRY2'}, {'interests': ['less than 18', '$25 - $49', 'Casual/Everyday', 'nice'], 'rate': '37', 'id': 'n5qPBLnd5hYfo8rkacIduQUyiKu2'}, {'interests': ['less than 18', '$25 - $49', 'Casual/Everyday', 'nice'], 'rate': '21', 'id': 'aiSxvMlqwmexWjld173WOWaNyrM2'}, {'interests': ['less than 18', '$25 - $49', 'Casual/Everyday', 'nice'], 'rate': '24', 'id': '2et5oBw0y9XGP7ARuCoRlnkE24A2'}, {'interests': ['less than 18', '$25 - $49', 'Casual/Everyday', 'nice'], 'rate': '25', 'id': 'tUtzabB5TIXwxPOoQgsnfbAOqWj1'}, {'interests': ['less than 18', '$25 - $49', 'Casual/Everyday', 'nice'], 'rate': '24', 'id': 'Ns3BasbO3HcqcBU1cWlsuX33oSn2'}]\n"
          ]
        }
      ],
      "source": [
        "# values from mongo\n",
        "from mongo_db_integration import get_stylists\n",
        "from statistics import mean\n",
        "\n",
        "information = get_stylists()\n",
        "age = 0\n",
        "count = -1\n",
        "ages = {\"less than 18\": 0, \"18 to 34\": 1, \"35 to 50\": 2, \"51 to 69\": 3, \"greater than 69\": 4}\n",
        "clothing = {\"Casual/Everyday\": \"Everyday\", \"Work\": \"Work\", \"Dressy\": \"Dressy\", \"Seasonal Update\": \"Seasonal\", \"Special Event\": \"Special\"}\n",
        "print(information)\n",
        "# for stylist in information:\n",
        "#     new_mapping = pd.DataFrame(columns=mapping.columns, index=[count+1])\n",
        "#     count += 1\n",
        "#     new_profile = pd.DataFrame(columns=df.columns, index=[df.index[-1]+1])\n",
        "#     interests = stylist['interests'] \n",
        "#     _id = stylist['id']\n",
        "#     new_mapping['id'] = _id\n",
        "#     new_mapping['index'] = df.index[-1]+1 \n",
        "#     if not interests:\n",
        "#         continue\n",
        "#     age = ages[interests[0]]\n",
        "#     # print(age, interests)\n",
        "#     rate = interests[1].replace(\"$\", \"\")\n",
        "#     rate = rate.replace(\"+\", \"\")\n",
        "#     rate = rate.replace(\" \", \"\")\n",
        "#     rate = rate.split(\"-\")\n",
        "#     # rate[0] = int(rate[0])\n",
        "#     # rate[1] = int(rate[1])\n",
        "#     rate = list(map(lambda x: int(x), rate))\n",
        "#     rate = round(mean(rate)) if len(rate) > 1 else rate\n",
        "#     final_interests = []\n",
        "#     final_interests.append(clothing[interests[2]])\n",
        "#     final_interests.append(interests[3])\n",
        "#     temp = ', '.join([str(interest) for interest in final_interests])\n",
        "#     new_profile['Profiles'] = temp\n",
        "#     new_profile['Rate'] = rate\n",
        "#     new_profile['Age'] = age\n",
        "#     style_temp = temp.replace(',', '')\n",
        "#     new_profile['Style'] = style_temp\n",
        "#     df = pd.concat([df, new_profile])\n",
        "#     mapping = pd.concat([mapping, new_mapping])\n",
        "\n",
        "    \n"
      ]
    },
    {
      "cell_type": "code",
      "execution_count": 53,
      "metadata": {},
      "outputs": [
        {
          "data": {
            "text/html": [
              "<div>\n",
              "<style scoped>\n",
              "    .dataframe tbody tr th:only-of-type {\n",
              "        vertical-align: middle;\n",
              "    }\n",
              "\n",
              "    .dataframe tbody tr th {\n",
              "        vertical-align: top;\n",
              "    }\n",
              "\n",
              "    .dataframe thead th {\n",
              "        text-align: right;\n",
              "    }\n",
              "</style>\n",
              "<table border=\"1\" class=\"dataframe\">\n",
              "  <thead>\n",
              "    <tr style=\"text-align: right;\">\n",
              "      <th></th>\n",
              "      <th>Profiles</th>\n",
              "      <th>Style</th>\n",
              "      <th>Age</th>\n",
              "      <th>Rate</th>\n",
              "    </tr>\n",
              "  </thead>\n",
              "  <tbody>\n",
              "    <tr>\n",
              "      <th>0</th>\n",
              "      <td>Masculine, Casual, Preppy, Glam</td>\n",
              "      <td>[Casual, Boho, Glam, Streetwear]</td>\n",
              "      <td>19</td>\n",
              "      <td>116</td>\n",
              "    </tr>\n",
              "    <tr>\n",
              "      <th>1</th>\n",
              "      <td>Masculine, Glam, Vintage, Preppy</td>\n",
              "      <td>[Maximalist, Casual, Streetwear, Edgy]</td>\n",
              "      <td>23</td>\n",
              "      <td>43</td>\n",
              "    </tr>\n",
              "    <tr>\n",
              "      <th>2</th>\n",
              "      <td>Sexy, Feminine, Edgy, Editorial</td>\n",
              "      <td>[Romantic, Androgynous, Sexy]</td>\n",
              "      <td>21</td>\n",
              "      <td>92</td>\n",
              "    </tr>\n",
              "    <tr>\n",
              "      <th>3</th>\n",
              "      <td>Classic, Editorial, Androgynous, Feminine</td>\n",
              "      <td>[Glam, Boho, Minimalist, Sexy]</td>\n",
              "      <td>22</td>\n",
              "      <td>46</td>\n",
              "    </tr>\n",
              "    <tr>\n",
              "      <th>4</th>\n",
              "      <td>Maximalist, Androgynous, Elegant, Masculine</td>\n",
              "      <td>[Masculine, Romantic, Androgynous, Elegant]</td>\n",
              "      <td>20</td>\n",
              "      <td>73</td>\n",
              "    </tr>\n",
              "    <tr>\n",
              "      <th>...</th>\n",
              "      <td>...</td>\n",
              "      <td>...</td>\n",
              "      <td>...</td>\n",
              "      <td>...</td>\n",
              "    </tr>\n",
              "    <tr>\n",
              "      <th>73451</th>\n",
              "      <td>Everyday, nice</td>\n",
              "      <td>Everyday nice</td>\n",
              "      <td>0</td>\n",
              "      <td>37</td>\n",
              "    </tr>\n",
              "    <tr>\n",
              "      <th>73452</th>\n",
              "      <td>Everyday, nice</td>\n",
              "      <td>Everyday nice</td>\n",
              "      <td>0</td>\n",
              "      <td>37</td>\n",
              "    </tr>\n",
              "    <tr>\n",
              "      <th>73453</th>\n",
              "      <td>Everyday, nice</td>\n",
              "      <td>Everyday nice</td>\n",
              "      <td>0</td>\n",
              "      <td>37</td>\n",
              "    </tr>\n",
              "    <tr>\n",
              "      <th>73454</th>\n",
              "      <td>Everyday, nice</td>\n",
              "      <td>Everyday nice</td>\n",
              "      <td>0</td>\n",
              "      <td>37</td>\n",
              "    </tr>\n",
              "    <tr>\n",
              "      <th>73455</th>\n",
              "      <td>Everyday, nice</td>\n",
              "      <td>Everyday nice</td>\n",
              "      <td>0</td>\n",
              "      <td>37</td>\n",
              "    </tr>\n",
              "  </tbody>\n",
              "</table>\n",
              "<p>73456 rows × 4 columns</p>\n",
              "</div>"
            ],
            "text/plain": [
              "                                          Profiles  \\\n",
              "0                  Masculine, Casual, Preppy, Glam   \n",
              "1                 Masculine, Glam, Vintage, Preppy   \n",
              "2                  Sexy, Feminine, Edgy, Editorial   \n",
              "3        Classic, Editorial, Androgynous, Feminine   \n",
              "4      Maximalist, Androgynous, Elegant, Masculine   \n",
              "...                                            ...   \n",
              "73451                               Everyday, nice   \n",
              "73452                               Everyday, nice   \n",
              "73453                               Everyday, nice   \n",
              "73454                               Everyday, nice   \n",
              "73455                               Everyday, nice   \n",
              "\n",
              "                                             Style  Age  Rate  \n",
              "0                 [Casual, Boho, Glam, Streetwear]   19   116  \n",
              "1           [Maximalist, Casual, Streetwear, Edgy]   23    43  \n",
              "2                    [Romantic, Androgynous, Sexy]   21    92  \n",
              "3                   [Glam, Boho, Minimalist, Sexy]   22    46  \n",
              "4      [Masculine, Romantic, Androgynous, Elegant]   20    73  \n",
              "...                                            ...  ...   ...  \n",
              "73451                                Everyday nice    0    37  \n",
              "73452                                Everyday nice    0    37  \n",
              "73453                                Everyday nice    0    37  \n",
              "73454                                Everyday nice    0    37  \n",
              "73455                                Everyday nice    0    37  \n",
              "\n",
              "[73456 rows x 4 columns]"
            ]
          },
          "execution_count": 53,
          "metadata": {},
          "output_type": "execute_result"
        }
      ],
      "source": [
        "df"
      ]
    },
    {
      "cell_type": "code",
      "execution_count": 54,
      "metadata": {
        "id": "7dQL3qmhWwaG"
      },
      "outputs": [],
      "source": [
        "with open(\"refined_profiles.pkl\",'wb') as fp:\n",
        "    pickle.dump(df, fp)\n",
        "\n",
        "with open(\"mapping.pkl\", \"wb\") as fp:\n",
        "    pickle.dump(mapping, fp)"
      ]
    }
  ],
  "metadata": {
    "colab": {
      "name": "datagathering.ipynb",
      "provenance": []
    },
    "interpreter": {
      "hash": "8945cacdc0f8c3b7ad660e2d07afafcd1708b98abc9bcb88b24a558d85957bc5"
    },
    "kernelspec": {
      "display_name": "Python 3.9.7 64-bit ('base': conda)",
      "name": "python3"
    },
    "language_info": {
      "codemirror_mode": {
        "name": "ipython",
        "version": 3
      },
      "file_extension": ".py",
      "mimetype": "text/x-python",
      "name": "python",
      "nbconvert_exporter": "python",
      "pygments_lexer": "ipython3",
      "version": "3.9.7"
    }
  },
  "nbformat": 4,
  "nbformat_minor": 2
}
